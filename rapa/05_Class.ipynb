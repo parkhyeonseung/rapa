{
 "cells": [
  {
   "cell_type": "markdown",
   "id": "4258f7a2",
   "metadata": {},
   "source": [
    "# Class\n",
    "변수 = 필드, \n",
    "함수 = 메소드"
   ]
  },
  {
   "cell_type": "code",
   "execution_count": 47,
   "id": "5cbfc093",
   "metadata": {},
   "outputs": [],
   "source": [
    "class car :\n",
    "    color = ''\n",
    "    speed = 0\n",
    "    def upspeed(self,value):       ## -> method\n",
    "        self.speed+=value\n",
    "    def downspeed(self,value):     ##-> method\n",
    "        self.speed-= value"
   ]
  },
  {
   "cell_type": "code",
   "execution_count": 45,
   "id": "fa2eba0f",
   "metadata": {},
   "outputs": [
    {
     "ename": "AttributeError",
     "evalue": "'car' object has no attribute 'color'",
     "output_type": "error",
     "traceback": [
      "\u001b[1;31m---------------------------------------------------------------------------\u001b[0m",
      "\u001b[1;31mAttributeError\u001b[0m                            Traceback (most recent call last)",
      "\u001b[1;32m~\\AppData\\Local\\Temp/ipykernel_2068/2014348651.py\u001b[0m in \u001b[0;36m<module>\u001b[1;34m\u001b[0m\n\u001b[0;32m      1\u001b[0m \u001b[0mcar1\u001b[0m\u001b[1;33m=\u001b[0m\u001b[0mcar\u001b[0m\u001b[1;33m(\u001b[0m\u001b[1;33m)\u001b[0m\u001b[1;33m\u001b[0m\u001b[1;33m\u001b[0m\u001b[0m\n\u001b[1;32m----> 2\u001b[1;33m \u001b[0mprint\u001b[0m\u001b[1;33m(\u001b[0m\u001b[0mcar1\u001b[0m\u001b[1;33m.\u001b[0m\u001b[0mcolor\u001b[0m\u001b[1;33m)\u001b[0m\u001b[1;33m\u001b[0m\u001b[1;33m\u001b[0m\u001b[0m\n\u001b[0m\u001b[0;32m      3\u001b[0m \u001b[0mcar2\u001b[0m \u001b[1;33m=\u001b[0m\u001b[0mCar\u001b[0m\u001b[1;33m(\u001b[0m\u001b[1;33m)\u001b[0m\u001b[1;33m\u001b[0m\u001b[1;33m\u001b[0m\u001b[0m\n\u001b[0;32m      4\u001b[0m \u001b[0mprint\u001b[0m\u001b[1;33m(\u001b[0m\u001b[0mcar2\u001b[0m\u001b[1;33m.\u001b[0m\u001b[0mcolor\u001b[0m\u001b[1;33m)\u001b[0m\u001b[1;33m\u001b[0m\u001b[1;33m\u001b[0m\u001b[0m\n\u001b[0;32m      5\u001b[0m \u001b[0mcar2\u001b[0m\u001b[1;33m.\u001b[0m\u001b[0mcolor\u001b[0m \u001b[1;33m=\u001b[0m \u001b[1;34m'노랑'\u001b[0m\u001b[1;33m\u001b[0m\u001b[1;33m\u001b[0m\u001b[0m\n",
      "\u001b[1;31mAttributeError\u001b[0m: 'car' object has no attribute 'color'"
     ]
    }
   ],
   "source": [
    "## 아래와 같이하면 오류 > 생성자 init이 없기에 color가 인스턴스에 지정되지 않는다.\n",
    "car1=car()\n",
    "print(car1.color)"
   ]
  },
  {
   "cell_type": "code",
   "execution_count": 25,
   "id": "5f237cea",
   "metadata": {},
   "outputs": [
    {
     "name": "stdout",
     "output_type": "stream",
     "text": [
      "빨강\n",
      "\n"
     ]
    }
   ],
   "source": [
    "## instance\n",
    "car1 = car()\n",
    "car2 = car()\n",
    "car3 = car()"
   ]
  },
  {
   "cell_type": "code",
   "execution_count": 18,
   "id": "18318ebf",
   "metadata": {},
   "outputs": [],
   "source": [
    "car1.color = '빨강'\n",
    "car1.speed = 0\n",
    "\n",
    "car2.color = '파랑'\n",
    "car2.speed = 0\n",
    "\n",
    "car3.color = '노랑'\n",
    "car3.speed = 0"
   ]
  },
  {
   "cell_type": "code",
   "execution_count": 19,
   "id": "8e698399",
   "metadata": {},
   "outputs": [],
   "source": [
    "car1.upspeed(30)\n",
    "car2.downspeed(60)"
   ]
  },
  {
   "cell_type": "code",
   "execution_count": 20,
   "id": "6a52ed27",
   "metadata": {},
   "outputs": [
    {
     "name": "stdout",
     "output_type": "stream",
     "text": [
      "빨강 30\n",
      "파랑 -60\n",
      "노랑 0\n"
     ]
    }
   ],
   "source": [
    "print(car1.color,car1.speed)\n",
    "print(car2.color,car2.speed)\n",
    "print(car3.color, car3.speed)"
   ]
  },
  {
   "cell_type": "code",
   "execution_count": 34,
   "id": "a36ecf95",
   "metadata": {},
   "outputs": [
    {
     "name": "stdout",
     "output_type": "stream",
     "text": [
      "1\n",
      "2\n"
     ]
    }
   ],
   "source": [
    "class car:\n",
    "    color =''\n",
    "    speed =0\n",
    "    count = 0\n",
    "    def __init__(self):\n",
    "        self.speed = 0\n",
    "        car.count+=1\n",
    "mycar1 = car()\n",
    "print(mycar1.count)\n",
    "mycar2 = car()\n",
    "print(mycar2.count)"
   ]
  },
  {
   "cell_type": "markdown",
   "id": "75b306e8",
   "metadata": {},
   "source": [
    "## overwriting"
   ]
  },
  {
   "cell_type": "code",
   "execution_count": 35,
   "id": "7836f548",
   "metadata": {},
   "outputs": [],
   "source": [
    "# 상속받은 메소드를 하위 클래스에서 재정의"
   ]
  },
  {
   "cell_type": "markdown",
   "id": "0e645581",
   "metadata": {},
   "source": [
    "## super"
   ]
  },
  {
   "cell_type": "code",
   "execution_count": 36,
   "id": "82380461",
   "metadata": {},
   "outputs": [],
   "source": [
    "# 서브 클래스에서 상위 클래스의 매서드와 핃드를 사용해야할때 super().method() , super().value() 로 사용"
   ]
  },
  {
   "cell_type": "code",
   "execution_count": 42,
   "id": "6631386b",
   "metadata": {},
   "outputs": [
    {
     "name": "stdout",
     "output_type": "stream",
     "text": [
      "트럭 -->현재 속도(슈퍼 클래스): 200\n",
      "승용차 -->현재 속도(서브 클래스): 150\n",
      "소나타 -->현재 속도(서브 클래스): 150\n"
     ]
    }
   ],
   "source": [
    "class car:\n",
    "    speed =0\n",
    "    def upspeed(self,value):\n",
    "        self.speed +=value\n",
    "        print('현재 속도(슈퍼 클래스): %d' %self.speed)\n",
    "        \n",
    "class sedan(car):\n",
    "    def upspeed(self,value):\n",
    "        self.speed +=value\n",
    "        \n",
    "        if self.speed>150:\n",
    "            self.speed = 150\n",
    "            print('현재 속도(서브 클래스): %d'%self.speed)\n",
    "\n",
    "class truck(car):\n",
    "    pass\n",
    "\n",
    "class sonata(sedan):\n",
    "    pass\n",
    "\n",
    "truck1 = truck()\n",
    "sedan1 = sedan()\n",
    "sonata1 = sonata()\n",
    "\n",
    "print('트럭 -->',end='')\n",
    "truck1.upspeed(200)\n",
    "\n",
    "print('승용차 -->',end='')\n",
    "sedan1.upspeed(200)\n",
    "\n",
    "print('소나타 -->',end='')\n",
    "sonata1.upspeed(200)"
   ]
  },
  {
   "cell_type": "code",
   "execution_count": 72,
   "id": "1096bf48",
   "metadata": {},
   "outputs": [
    {
     "name": "stdout",
     "output_type": "stream",
     "text": [
      "#제인의 장바구니\n",
      "--------------------\n",
      "* 바나나 3000 4\n",
      "* 라면 4000 1\n",
      "* 우유 2500 5\n",
      "** 전체가격 = 28500 , 전체수량 3\n",
      "\n",
      "#대원의 장바구니\n",
      "--------------------\n",
      "* 라면 4000 2\n",
      "** 전체가격 = 8000 , 전체수량 1\n",
      "\n"
     ]
    }
   ],
   "source": [
    "class Basket :\n",
    "    \n",
    "    def __init__(self,id):\n",
    "        self.id = id\n",
    "        self.items = {}\n",
    "        self.qtys = {}\n",
    "        self.totalprice = 0\n",
    "        self.totalcnt = 0\n",
    "    def add(self,item,price,qty):\n",
    "        if item not in self.items.keys():\n",
    "            self.items[item]=price\n",
    "            self.qtys[item] = qty\n",
    "        else:\n",
    "            self.qtys[item] += qty \n",
    "            \n",
    "        self.totalcnt = len(self.items)\n",
    "        \n",
    "    def delete(self,item,qty):\n",
    "        self.qtys[item]-=qty\n",
    "        if self.qtys[item]==0:\n",
    "            del self.items[item]\n",
    "    def printitems(self):\n",
    "        print(f'#{self.id}의 장바구니')\n",
    "        print('-'*20)\n",
    "        for i,v in self.items.items():\n",
    "            self.totalprice += self.qtys[i]*self.items[i]\n",
    "            print(f'* {i} {v} {self.qtys[i]}')\n",
    "        print(f'** 전체가격 = {self.totalprice} , 전체수량 {self.totalcnt}')\n",
    "        print()\n",
    "        \n",
    "basket1 = Basket('제인')\n",
    "basket2 = Basket('대원')\n",
    "\n",
    "basket1.add('바나나',3000,2)\n",
    "basket1.add('바나나',3000,2)\n",
    "basket1.add('우유',2500,2)\n",
    "basket1.add('라면',4000,1)\n",
    "basket2.add('라면',4000,2)\n",
    "basket1.delete('우유',2)\n",
    "basket1.add('우유',2500,5)\n",
    "\n",
    "basket1.printitems()\n",
    "basket2.printitems()"
   ]
  },
  {
   "cell_type": "markdown",
   "id": "c4f20740",
   "metadata": {},
   "source": [
    "# Multi Thread"
   ]
  },
  {
   "cell_type": "code",
   "execution_count": 77,
   "id": "0447fbe3",
   "metadata": {},
   "outputs": [
    {
     "name": "stdout",
     "output_type": "stream",
     "text": [
      "자동차1~~달립니다.\n",
      "자동차2~~달립니다.\n",
      "자동차3~~달립니다.\n",
      "자동차2~~달립니다.\n",
      "자동차1~~달립니다.\n",
      "자동차3~~달립니다.\n",
      "자동차2~~달립니다.\n",
      "자동차1~~달립니다.\n",
      "자동차3~~달립니다.\n"
     ]
    }
   ],
   "source": [
    "import time\n",
    "import threading\n",
    "class RacingCar :\n",
    "    carName = ''\n",
    "    def __init__(self,name):\n",
    "        self.carName = name\n",
    "    def runCar(self):\n",
    "        for _ in range(0,3):\n",
    "            carStr = self.carName +'~~달립니다.\\n'\n",
    "            print(carStr,end = '')\n",
    "            time.sleep(1)\n",
    "car1 = RacingCar('자동차1')\n",
    "car2 = RacingCar('자동차2')\n",
    "car3 = RacingCar('자동차3')\n",
    "\n",
    "th1 = threading.Thread(target = car1.runCar)\n",
    "th2 = threading.Thread(target = car2.runCar)\n",
    "th3 = threading.Thread(target = car3.runCar)\n",
    "\n",
    "th1.start()\n",
    "th2.start()\n",
    "th3.start()         \n",
    "            "
   ]
  },
  {
   "cell_type": "code",
   "execution_count": null,
   "id": "798c127a",
   "metadata": {},
   "outputs": [],
   "source": []
  }
 ],
 "metadata": {
  "kernelspec": {
   "display_name": "Python 3 (ipykernel)",
   "language": "python",
   "name": "python3"
  },
  "language_info": {
   "codemirror_mode": {
    "name": "ipython",
    "version": 3
   },
   "file_extension": ".py",
   "mimetype": "text/x-python",
   "name": "python",
   "nbconvert_exporter": "python",
   "pygments_lexer": "ipython3",
   "version": "3.8.10"
  }
 },
 "nbformat": 4,
 "nbformat_minor": 5
}
