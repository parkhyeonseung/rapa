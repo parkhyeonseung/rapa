{
 "cells": [
  {
   "cell_type": "code",
   "execution_count": null,
   "id": "eeec83b9",
   "metadata": {
    "scrolled": true
   },
   "outputs": [],
   "source": [
    "## lotto \n",
    "\n",
    "def lotto():\n",
    "    import random\n",
    "    num_list = list(range(1,46))\n",
    "    num_lotto = sorted(random.sample(num_list ,6))\n",
    "    print(f'이번주 로또 번호는 {num_lotto} 입니다!')"
   ]
  },
  {
   "cell_type": "code",
   "execution_count": null,
   "id": "81791d62",
   "metadata": {},
   "outputs": [],
   "source": [
    "lotto()"
   ]
  },
  {
   "cell_type": "code",
   "execution_count": null,
   "id": "7e5fe753",
   "metadata": {},
   "outputs": [],
   "source": [
    "## 숫자 맞추기\n",
    "def num_game():\n",
    "    import random\n",
    "    num = random.randrange(1,101)\n",
    "    bar = '----------------------------------'\n",
    "    print(bar,'\\n* 비밀의 숫자가 지정되었습니다.\\n',bar)\n",
    "    put_num = 0\n",
    "    count = 0\n",
    "    while put_num!=num:\n",
    "        while 1:\n",
    "            try:\n",
    "                put_num = int(input('숫자를 입력하세요(혹여 그만둘꺼면 숫자 빼고 눌러봐) :'))\n",
    "                break\n",
    "            except :\n",
    "                print('숫자만 입력하세요!')\n",
    "                press = input('혹시 그만둘꺼여? [y/n]')\n",
    "                if press == 'y':\n",
    "                    break\n",
    "                pass\n",
    "        if press == 'y':\n",
    "            break\n",
    "        count+=1\n",
    "        if put_num<num:\n",
    "            print('비밀의 수는 더 큰 수 입니다.')\n",
    "        elif put_num>num:\n",
    "            print('비밀의 수는 더 작은 수 입니다.')\n",
    "    if press == 'y':\n",
    "        print('-'*30)\n",
    "        print(f'비밀의 숫자: 안알랴줌^^\\n당신의 입력 횟수: {count}')\n",
    "        print('-'*30)\n",
    "    else :\n",
    "        print('-'*30)\n",
    "        print('정답입니다.\\n',bar)\n",
    "        print(f'비밀의 숫자: {num}\\n당신의 입력 횟수: {count}')\n",
    "        print('-'*30)"
   ]
  },
  {
   "cell_type": "code",
   "execution_count": null,
   "id": "5fe2d8eb",
   "metadata": {},
   "outputs": [],
   "source": [
    "num_game()"
   ]
  },
  {
   "cell_type": "code",
   "execution_count": null,
   "id": "ab8b9f7d",
   "metadata": {},
   "outputs": [],
   "source": [
    "## 가위바위보\n",
    "def rock():\n",
    "    import random\n",
    "    while 1:\n",
    "        rsp_ai_dict = {0:'가위', 1:'바위', 2:'보'}       ## ai 딕\n",
    "        rsp_u_dict = {'가위':0, '바위':1, '보':2}        ## 사용자 딕\n",
    "\n",
    "        rsp_ai_num = random.choice(list(range(3)))      ## ai 무기 번호 고르기  int\n",
    "        rsp_ai = rsp_ai_dict[rsp_ai_num]                ## ai 무기 번호로 무기 선택 str\n",
    "        \n",
    "        rsp_u = input('가위~ 바위~ 보!\\n당신의 무기를 입력하세요! :')   ## 사용자 무기 입력  str\n",
    "        print('-'*30)\n",
    "        \n",
    "        if rsp_u in ['가위','바위','보']:\n",
    "            \n",
    "            if rsp_u_dict[rsp_u] == rsp_ai_num:\n",
    "                result = 'draw'\n",
    "                \n",
    "            elif rsp_u_dict[rsp_u] == 0 and rsp_ai_num == 2:\n",
    "                    result = 'win'\n",
    "            elif rsp_u_dict[rsp_u] == 1 and rsp_ai_num == 0:\n",
    "                    result = 'win'\n",
    "            elif rsp_u_dict[rsp_u] == 2 and rsp_ai_num == 1:\n",
    "                    result = 'win'\n",
    "                    \n",
    "            else:\n",
    "                result = 'loose'\n",
    "                \n",
    "        else :\n",
    "            print('가위, 바위, 보 중에 선택하세요!')\n",
    "            continue\n",
    "        \n",
    "        print(f'Ai 무기: {rsp_ai} VS 너의 무기: {rsp_u}') \n",
    "        print('-'*14)\n",
    "        print(f'| You {result}!!! |')\n",
    "        print('-'*14)\n",
    "        while 1:\n",
    "            repeat = input('한번더? (please input : y, Y, yes, 네, 응) or (n, N, no, 아니요, 싫어,아니)')\n",
    "            print('-'*30)\n",
    "            if repeat in ['y','Y','yes','네','응','n','N','no','아니요','싫어','아니']:\n",
    "                break\n",
    "            else :\n",
    "                print('똑바로 대답해')\n",
    "                \n",
    "        if repeat in ['y','Y','yes','네','응'] :\n",
    "                    pass\n",
    "        elif repeat in ['n','N','no','아니요','싫어','아니']:\n",
    "            print('게임 끝')\n",
    "            break"
   ]
  },
  {
   "cell_type": "code",
   "execution_count": null,
   "id": "54945647",
   "metadata": {},
   "outputs": [],
   "source": [
    "rock()"
   ]
  },
  {
   "cell_type": "code",
   "execution_count": null,
   "id": "fed178c4",
   "metadata": {},
   "outputs": [],
   "source": [
    "## 글자 빈도수 \n",
    "\n",
    "def str_count():\n",
    "    from collections import Counter\n",
    "    instr = input('글자 빈도수를 알고 싶은 글을 적어봐!: ')\n",
    "    print('-'*30)\n",
    "    counter = Counter(instr)  # 딕셔너리타입\n",
    "    \n",
    "    del counter[' ']\n",
    "    counter_dic = dict(counter)\n",
    "    \n",
    "    print(f'글자 빈도수: {counter_dic}')\n",
    "    \n",
    "    # 가장 많이 나타난 2개를 출력한다\n",
    "    print(f'제일 큰 빈도수 글자 2개: {counter.most_common(n=2)}')\n",
    "    max_count =0\n",
    "    for letter in counter:\n",
    "        if counter[letter] > max_count:\n",
    "            max_count = counter[letter]\n",
    "            max_letter = letter\n",
    "    print('-'*40)\n",
    "    print(f'| 제일 제일 큰 빈도수 글자는! : {max_letter} 로 {max_count}번 |' )\n",
    "    print('-'*40)"
   ]
  },
  {
   "cell_type": "code",
   "execution_count": null,
   "id": "3560ad64",
   "metadata": {},
   "outputs": [],
   "source": [
    "str_count()"
   ]
  },
  {
   "cell_type": "code",
   "execution_count": 50,
   "id": "83b293fb",
   "metadata": {},
   "outputs": [],
   "source": [
    "from tkinter import *\n",
    "from tkinter.simpledialog import *\n",
    "from tkinter import messagebox\n",
    "from PIL import ImageTk, Image\n",
    "import random\n",
    "\n",
    "def lotto_update():\n",
    "    num_list = list(range(1,46))\n",
    "    num_lotto = sorted(random.sample(num_list ,6))\n",
    "    label1.configure(text=f'!!이번주 1등 로또 번호는!!\\n{num_lotto}\\n입니다.',font=('bold',50),fg='blue')\n",
    "\n",
    "def lotto():\n",
    "    global num_lotto,label1\n",
    "    window1=Tk()\n",
    "    window1.title('lotto')\n",
    "    window1.resizable(width=TRUE,height=TRUE)\n",
    "    window1.geometry('700x580')\n",
    "    num_list = list(range(1,46))\n",
    "    num_lotto = sorted(random.sample(num_list ,6))\n",
    "    label2 = Label(window1,text=f'$$$$$$$$$$$$$$$$',font=('bold',60),fg='red')\n",
    "    label1 = Label(window1,text=f'!!이번주 1등 로또 번호는!!\\n{num_lotto}\\n입니다.',font=('bold',50),fg='blue')\n",
    "    label1.place(y=130)\n",
    "    label2.place(y=30)\n",
    "    button1 = Button(window1,text='맘에 안들어?',bg='white',command = lotto_update )\n",
    "    button1.place(x=300,y=450)\n",
    "    window1.mainloop()\n",
    "    \n",
    "def twenty():\n",
    "    messagebox.showinfo('스무고개','비밀의 숫자가 지정됨!')\n",
    "    bar='-'\n",
    "    num = random.randrange(1,101)\n",
    "    put_num = 0\n",
    "    count = 0\n",
    "    while 1:\n",
    "        try:\n",
    "            put_num = askinteger('스무고개','숫자를 입력하세요',minvalue=1,maxvalue=100) \n",
    "        except :\n",
    "            press = messagebox.askyesno('스무고개','그만 둘건가요?')\n",
    "            if press ==True:\n",
    "                break\n",
    "            elif press == False:\n",
    "                pass\n",
    "        count+=1\n",
    "        try:\n",
    "            if put_num<num:\n",
    "                messagebox.showinfo('스무고개','비밀의 수가 더 커!')\n",
    "            elif put_num>num:\n",
    "                messagebox.showinfo('스무고개','비밀의 수가 더 작아!')\n",
    "            else :\n",
    "                break\n",
    "        except:\n",
    "            press = messagebox.askyesno('스무고개','그만 둘건가요?')\n",
    "            if press ==True:\n",
    "                break\n",
    "            elif press == False:\n",
    "                pass\n",
    "    if press ==True:\n",
    "        messagebox.showinfo('스무고개','비밀의 수 : 안알랴줌^^')\n",
    "        messagebox.showinfo('스무고개',f'시도 횟수 : {count}')\n",
    "    else:\n",
    "        messagebox.showinfo('스무고개',f'정답 !!!\\n비밀의 수 : {num}')\n",
    "        messagebox.showinfo('스무고개',f'시도 횟수 : {count}')\n",
    "\n",
    "def rock():\n",
    "    global rsp_u\n",
    "    while 1:\n",
    "        rsp_ai_dict = {0:'가위', 1:'바위', 2:'보'}       ## ai 딕\n",
    "        rsp_u_dict = {'가위':0, '바위':1, '보':2}        ## 사용자 딕\n",
    "\n",
    "        rsp_ai_num = random.choice(list(range(3)))      ## ai 무기 번호 고르기  int\n",
    "        rsp_ai = rsp_ai_dict[rsp_ai_num]                ## ai 무기 번호로 무기 선택 str\n",
    "        \n",
    "        try:\n",
    "            rsp_u = askstring('rock','가위~ 바위~ 보!\\n당신의 무기를 입력하세요! :')   ## 사용자 무기 입력  str\n",
    "\n",
    "            if rsp_u in ['가위','바위','보']:\n",
    "\n",
    "                if rsp_u_dict[rsp_u] == rsp_ai_num:\n",
    "                    result = 'draw'\n",
    "\n",
    "                elif rsp_u_dict[rsp_u] == 0 and rsp_ai_num == 2:\n",
    "                        result = 'win'\n",
    "                elif rsp_u_dict[rsp_u] == 1 and rsp_ai_num == 0:\n",
    "                        result = 'win'\n",
    "                elif rsp_u_dict[rsp_u] == 2 and rsp_ai_num == 1:\n",
    "                        result = 'win'\n",
    "\n",
    "                else:\n",
    "                    result = 'loose'\n",
    "    \n",
    "            else :\n",
    "                messagebox.showinfo('rock','가위, 바위, 보 중에 선택하세요!')\n",
    "                quit1 = messagebox.askyesno('quit','그만?')\n",
    "                if quit1 == True:\n",
    "                    break\n",
    "                else :\n",
    "                    continue\n",
    "         \n",
    "        except:\n",
    "            quit = messagebox.askyesno('retry?','그만? ')\n",
    "            if quit == True:\n",
    "                break\n",
    "            elif quit == False :\n",
    "                continue\n",
    "            else :\n",
    "                break\n",
    "                \n",
    "        messagebox.showinfo('rock',f'Ai 무기: {rsp_ai} VS 너의 무기: {rsp_u}\\n| You {result}!!! |')\n",
    "        \n",
    "        while 1:\n",
    "            repeat = messagebox.askyesno('retry?','한번더? ')\n",
    "            if repeat == True:\n",
    "                break\n",
    "            else :\n",
    "                break\n",
    "                \n",
    "        if repeat == True :\n",
    "            continue\n",
    "        elif repeat == False:\n",
    "            messagebox.showinfo('rock','게임 끝')\n",
    "            break\n",
    "\n",
    "def count():\n",
    "    from collections import Counter\n",
    "    instr = askstring('word','글자 빈도수를 알고 싶은 글을 적어봐!: ')\n",
    "    counter = Counter(instr)  # 딕셔너리타입\n",
    "    \n",
    "    del counter[' ']\n",
    "    counter_dic = dict(counter)\n",
    "    messagebox.showinfo('count',f'글자 빈도수:\\n {counter_dic}')\n",
    "    ask = askinteger('count','상위 몇개 까지 알고싶어?')\n",
    "    messagebox.showinfo('count',f'상위 {ask}개:\\n {counter.most_common(n=ask)}')\n",
    "         \n",
    "            \n",
    "img_path = 'games/'\n",
    "\n",
    "window = Tk()\n",
    "\n",
    "window.title('미니 게임')\n",
    "window.geometry('1000x600')\n",
    "window.resizable(width=FALSE,height=FALSE)\n",
    "\n",
    "\n",
    "photo1 = ImageTk.PhotoImage(Image.open(img_path+'lotto.png'))\n",
    "button1_1 = Button(image = photo1,command=lotto)\n",
    "\n",
    "photo2 = ImageTk.PhotoImage(Image.open(img_path+'twenty.jpeg'))\n",
    "button2_1 = Button(image = photo2, command=twenty)\n",
    "\n",
    "photo3 = ImageTk.PhotoImage(Image.open(img_path+'rock.jpeg'))\n",
    "button3_1 = Button(image = photo3, command = rock)\n",
    "\n",
    "photo4 = ImageTk.PhotoImage(Image.open(img_path+'count.jpeg'))\n",
    "button4_1 = Button(image = photo4, command = count)\n",
    "\n",
    "button1_1.place(x=80,y=100)\n",
    "button2_1.place(x=600,y=50)\n",
    "button3_1.place(x=150,y=320)\n",
    "button4_1.place(x=560,y=340)\n",
    "\n",
    "window.mainloop()"
   ]
  },
  {
   "cell_type": "code",
   "execution_count": null,
   "id": "49bd00e0",
   "metadata": {},
   "outputs": [],
   "source": []
  },
  {
   "cell_type": "code",
   "execution_count": null,
   "id": "c3e8b4c9",
   "metadata": {},
   "outputs": [],
   "source": []
  },
  {
   "cell_type": "code",
   "execution_count": null,
   "id": "15e41484",
   "metadata": {},
   "outputs": [],
   "source": []
  },
  {
   "cell_type": "code",
   "execution_count": null,
   "id": "0f007bc6",
   "metadata": {},
   "outputs": [],
   "source": []
  },
  {
   "cell_type": "code",
   "execution_count": null,
   "id": "2dac2889",
   "metadata": {},
   "outputs": [],
   "source": []
  },
  {
   "cell_type": "code",
   "execution_count": null,
   "id": "84805bc4",
   "metadata": {},
   "outputs": [],
   "source": []
  },
  {
   "cell_type": "code",
   "execution_count": null,
   "id": "4cbb7e9b",
   "metadata": {},
   "outputs": [],
   "source": []
  },
  {
   "cell_type": "code",
   "execution_count": 43,
   "id": "227d64ce",
   "metadata": {},
   "outputs": [
    {
     "data": {
      "text/plain": [
       "'가위'"
      ]
     },
     "execution_count": 43,
     "metadata": {},
     "output_type": "execute_result"
    }
   ],
   "source": [
    "rsp_u"
   ]
  },
  {
   "cell_type": "code",
   "execution_count": null,
   "id": "e1a992dc",
   "metadata": {},
   "outputs": [],
   "source": []
  },
  {
   "cell_type": "code",
   "execution_count": null,
   "id": "20fc724d",
   "metadata": {},
   "outputs": [],
   "source": []
  },
  {
   "cell_type": "code",
   "execution_count": null,
   "id": "04de3a4a",
   "metadata": {},
   "outputs": [],
   "source": []
  },
  {
   "cell_type": "code",
   "execution_count": null,
   "id": "256fd5ab",
   "metadata": {},
   "outputs": [],
   "source": []
  },
  {
   "cell_type": "code",
   "execution_count": null,
   "id": "73f29d1c",
   "metadata": {},
   "outputs": [],
   "source": []
  },
  {
   "cell_type": "code",
   "execution_count": null,
   "id": "1ed9c266",
   "metadata": {},
   "outputs": [],
   "source": []
  },
  {
   "cell_type": "code",
   "execution_count": null,
   "id": "82faf61e",
   "metadata": {},
   "outputs": [],
   "source": []
  },
  {
   "cell_type": "code",
   "execution_count": null,
   "id": "80ccd94e",
   "metadata": {},
   "outputs": [],
   "source": []
  },
  {
   "cell_type": "code",
   "execution_count": null,
   "id": "2ed8a65d",
   "metadata": {},
   "outputs": [],
   "source": []
  },
  {
   "cell_type": "code",
   "execution_count": null,
   "id": "b7d80101",
   "metadata": {},
   "outputs": [],
   "source": []
  },
  {
   "cell_type": "code",
   "execution_count": null,
   "id": "1e28c0f1",
   "metadata": {},
   "outputs": [],
   "source": []
  },
  {
   "cell_type": "code",
   "execution_count": null,
   "id": "0788b0a1",
   "metadata": {},
   "outputs": [],
   "source": []
  },
  {
   "cell_type": "code",
   "execution_count": null,
   "id": "d6c3352d",
   "metadata": {},
   "outputs": [],
   "source": []
  },
  {
   "cell_type": "code",
   "execution_count": null,
   "id": "f81655da",
   "metadata": {},
   "outputs": [],
   "source": []
  },
  {
   "cell_type": "code",
   "execution_count": null,
   "id": "232d7b6c",
   "metadata": {},
   "outputs": [],
   "source": []
  },
  {
   "cell_type": "code",
   "execution_count": null,
   "id": "15aaf649",
   "metadata": {},
   "outputs": [],
   "source": []
  },
  {
   "cell_type": "code",
   "execution_count": null,
   "id": "7ce91e40",
   "metadata": {},
   "outputs": [],
   "source": []
  },
  {
   "cell_type": "code",
   "execution_count": null,
   "id": "7e0f622d",
   "metadata": {},
   "outputs": [],
   "source": []
  },
  {
   "cell_type": "code",
   "execution_count": null,
   "id": "f25a580c",
   "metadata": {},
   "outputs": [],
   "source": []
  },
  {
   "cell_type": "code",
   "execution_count": null,
   "id": "304e1a15",
   "metadata": {},
   "outputs": [],
   "source": []
  },
  {
   "cell_type": "code",
   "execution_count": null,
   "id": "0c0fc886",
   "metadata": {},
   "outputs": [],
   "source": []
  },
  {
   "cell_type": "code",
   "execution_count": null,
   "id": "4631f276",
   "metadata": {},
   "outputs": [],
   "source": []
  },
  {
   "cell_type": "code",
   "execution_count": null,
   "id": "651d8dfc",
   "metadata": {},
   "outputs": [],
   "source": []
  },
  {
   "cell_type": "code",
   "execution_count": null,
   "id": "c1719c63",
   "metadata": {},
   "outputs": [],
   "source": []
  },
  {
   "cell_type": "code",
   "execution_count": 17,
   "id": "1197e03d",
   "metadata": {},
   "outputs": [],
   "source": [
    "# 눌린 키보드 키 표시하기\n",
    "from tkinter import *\n",
    "from tkinter import messagebox\n",
    "\n",
    "## 함수 선언 부분 ## \n",
    "def keyEvent(event) :\n",
    "    global y\n",
    "    y= messagebox.askyesno(\"키보드 이벤트\", \"눌린 키: \" + chr(event.keycode))\n",
    "\n",
    "    \n",
    "## 메인 코드 부분\n",
    "window = Tk()\n",
    "\n",
    "window.bind(\"<Key>\", keyEvent)\n",
    "\n",
    "window.mainloop()\n"
   ]
  },
  {
   "cell_type": "code",
   "execution_count": null,
   "id": "6f00ac49",
   "metadata": {},
   "outputs": [],
   "source": []
  },
  {
   "cell_type": "code",
   "execution_count": 18,
   "id": "a9eae928",
   "metadata": {},
   "outputs": [
    {
     "data": {
      "text/plain": [
       "False"
      ]
     },
     "execution_count": 18,
     "metadata": {},
     "output_type": "execute_result"
    }
   ],
   "source": [
    "y"
   ]
  },
  {
   "cell_type": "code",
   "execution_count": null,
   "id": "0ea385fa",
   "metadata": {},
   "outputs": [],
   "source": []
  },
  {
   "cell_type": "code",
   "execution_count": null,
   "id": "86c928a1",
   "metadata": {},
   "outputs": [],
   "source": []
  },
  {
   "cell_type": "code",
   "execution_count": null,
   "id": "a3c8322c",
   "metadata": {},
   "outputs": [],
   "source": []
  },
  {
   "cell_type": "code",
   "execution_count": null,
   "id": "cf840a64",
   "metadata": {},
   "outputs": [],
   "source": []
  },
  {
   "cell_type": "code",
   "execution_count": null,
   "id": "ce79a9ff",
   "metadata": {},
   "outputs": [],
   "source": []
  },
  {
   "cell_type": "code",
   "execution_count": null,
   "id": "7883ba9d",
   "metadata": {},
   "outputs": [],
   "source": []
  },
  {
   "cell_type": "code",
   "execution_count": null,
   "id": "a8a6dc2f",
   "metadata": {},
   "outputs": [],
   "source": []
  },
  {
   "cell_type": "code",
   "execution_count": null,
   "id": "49c96e6e",
   "metadata": {},
   "outputs": [],
   "source": []
  },
  {
   "cell_type": "code",
   "execution_count": null,
   "id": "a214d5dc",
   "metadata": {},
   "outputs": [],
   "source": []
  },
  {
   "cell_type": "code",
   "execution_count": null,
   "id": "09b61954",
   "metadata": {},
   "outputs": [],
   "source": []
  },
  {
   "cell_type": "code",
   "execution_count": null,
   "id": "7e29cc2f",
   "metadata": {},
   "outputs": [],
   "source": []
  },
  {
   "cell_type": "code",
   "execution_count": null,
   "id": "6e3339c2",
   "metadata": {},
   "outputs": [],
   "source": []
  },
  {
   "cell_type": "code",
   "execution_count": null,
   "id": "144952a0",
   "metadata": {},
   "outputs": [],
   "source": []
  }
 ],
 "metadata": {
  "kernelspec": {
   "display_name": "Python 3 (ipykernel)",
   "language": "python",
   "name": "python3"
  },
  "language_info": {
   "codemirror_mode": {
    "name": "ipython",
    "version": 3
   },
   "file_extension": ".py",
   "mimetype": "text/x-python",
   "name": "python",
   "nbconvert_exporter": "python",
   "pygments_lexer": "ipython3",
   "version": "3.8.0"
  }
 },
 "nbformat": 4,
 "nbformat_minor": 5
}
