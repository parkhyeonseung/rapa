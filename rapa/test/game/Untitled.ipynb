{
 "cells": [
  {
   "cell_type": "code",
   "execution_count": null,
   "id": "edfe1c31",
   "metadata": {},
   "outputs": [],
   "source": [
    "import urllib.request\n",
    "import ssl\n",
    "from collections import Counter\n",
    "\n",
    "from tkinter import *\n",
    "from tkinter.simpledialog import *\n",
    "from tkinter import messagebox\n",
    "from PIL import ImageTk, Image\n",
    "window = Tk()\n",
    "context = ssl._create_unverified_context()\n",
    "#환율정보 페이지 불러오기\n",
    "num = askinteger('lotto','총 몇 회차의 번호의 횟수을 알고싶나요?',minvalue = 1,maxvalue=100)\n",
    "all_num = []\n",
    "for i in range(num):\n",
    "    num = 979-i\n",
    "    num = str(num)\n",
    "    URL = \"https://www.dhlottery.co.kr/common.do?method=getLottoNumber&drwNo=\"+num\n",
    "    page = urllib.request.urlopen(URL, context=context)\n",
    "    text = page.read().decode(\"utf8\")  # 해당 페이지의 소스코드\n",
    "    for k in range(1,7):\n",
    "        k=str(k)\n",
    "        target_name = 'drwtNo'+k+'\":'\n",
    "        target_idx = text.find(target_name)\n",
    "        target = text[target_idx+len(target_name):target_idx+len(target_name)+2]\n",
    "        all_num.append(target)\n",
    "        \n",
    "for i,v in enumerate(all_num):\n",
    "    if ',' in v:\n",
    "        v = v[0]\n",
    "        all_num[i] = v\n",
    "    elif '}' in v:\n",
    "        v = v[0]\n",
    "        all_num[i] = v\n",
    "\n",
    "counter_lot = Counter(all_num)\n",
    "length = len(counter_lot)\n",
    "for i in range(length):\n",
    "    print(f'숫자 : {counter_lot[all_num[i]]} ')\n",
    "window.mainloop()\n"
   ]
  },
  {
   "cell_type": "code",
   "execution_count": null,
   "id": "b7447cb2",
   "metadata": {},
   "outputs": [],
   "source": [
    "length"
   ]
  },
  {
   "cell_type": "code",
   "execution_count": null,
   "id": "8d045993",
   "metadata": {},
   "outputs": [],
   "source": [
    "counter_lot"
   ]
  },
  {
   "cell_type": "code",
   "execution_count": null,
   "id": "7a3fd5b6",
   "metadata": {},
   "outputs": [],
   "source": [
    "all_num"
   ]
  },
  {
   "cell_type": "code",
   "execution_count": null,
   "id": "18bd85ec",
   "metadata": {},
   "outputs": [],
   "source": []
  },
  {
   "cell_type": "code",
   "execution_count": null,
   "id": "9401bcc0",
   "metadata": {},
   "outputs": [],
   "source": []
  },
  {
   "cell_type": "code",
   "execution_count": null,
   "id": "d796f647",
   "metadata": {},
   "outputs": [],
   "source": []
  },
  {
   "cell_type": "code",
   "execution_count": null,
   "id": "87fedc2c",
   "metadata": {},
   "outputs": [],
   "source": []
  },
  {
   "cell_type": "code",
   "execution_count": null,
   "id": "95fe6849",
   "metadata": {},
   "outputs": [],
   "source": []
  },
  {
   "cell_type": "code",
   "execution_count": null,
   "id": "0b9e97eb",
   "metadata": {},
   "outputs": [],
   "source": []
  },
  {
   "cell_type": "code",
   "execution_count": null,
   "id": "5d34e7d5",
   "metadata": {},
   "outputs": [],
   "source": []
  },
  {
   "cell_type": "code",
   "execution_count": null,
   "id": "c22040ba",
   "metadata": {},
   "outputs": [],
   "source": [
    "',' in '7,'"
   ]
  },
  {
   "cell_type": "code",
   "execution_count": null,
   "id": "da181dbb",
   "metadata": {},
   "outputs": [],
   "source": []
  },
  {
   "cell_type": "code",
   "execution_count": null,
   "id": "af553a3a",
   "metadata": {},
   "outputs": [],
   "source": []
  },
  {
   "cell_type": "code",
   "execution_count": null,
   "id": "47db0e46",
   "metadata": {},
   "outputs": [],
   "source": []
  },
  {
   "cell_type": "code",
   "execution_count": null,
   "id": "72978a70",
   "metadata": {},
   "outputs": [],
   "source": []
  },
  {
   "cell_type": "code",
   "execution_count": null,
   "id": "0d2efdbf",
   "metadata": {},
   "outputs": [],
   "source": []
  },
  {
   "cell_type": "code",
   "execution_count": null,
   "id": "9cc28495",
   "metadata": {},
   "outputs": [],
   "source": []
  },
  {
   "cell_type": "code",
   "execution_count": null,
   "id": "d5d7b073",
   "metadata": {},
   "outputs": [],
   "source": [
    "text"
   ]
  },
  {
   "cell_type": "code",
   "execution_count": null,
   "id": "f44f7a84",
   "metadata": {},
   "outputs": [],
   "source": []
  },
  {
   "cell_type": "code",
   "execution_count": null,
   "id": "183a613a",
   "metadata": {},
   "outputs": [],
   "source": []
  },
  {
   "cell_type": "code",
   "execution_count": null,
   "id": "3025696e",
   "metadata": {},
   "outputs": [],
   "source": []
  },
  {
   "cell_type": "code",
   "execution_count": null,
   "id": "46ddfe92",
   "metadata": {},
   "outputs": [],
   "source": []
  },
  {
   "cell_type": "code",
   "execution_count": null,
   "id": "81b72102",
   "metadata": {},
   "outputs": [],
   "source": []
  },
  {
   "cell_type": "code",
   "execution_count": null,
   "id": "fcf7c7eb",
   "metadata": {},
   "outputs": [],
   "source": [
    "text[drwtNo3]"
   ]
  },
  {
   "cell_type": "code",
   "execution_count": null,
   "id": "12743984",
   "metadata": {},
   "outputs": [],
   "source": [
    "text[5:18]"
   ]
  },
  {
   "cell_type": "code",
   "execution_count": null,
   "id": "1c8dd6cb",
   "metadata": {},
   "outputs": [],
   "source": []
  },
  {
   "cell_type": "code",
   "execution_count": null,
   "id": "0a11e349",
   "metadata": {},
   "outputs": [],
   "source": []
  },
  {
   "cell_type": "code",
   "execution_count": null,
   "id": "1953815d",
   "metadata": {},
   "outputs": [],
   "source": []
  },
  {
   "cell_type": "code",
   "execution_count": null,
   "id": "acee29af",
   "metadata": {},
   "outputs": [],
   "source": []
  },
  {
   "cell_type": "code",
   "execution_count": 9,
   "id": "37bc0bf5",
   "metadata": {},
   "outputs": [],
   "source": [
    "from tkinter import *\n",
    "\n",
    "from tkinter.simpledialog import *\n",
    "from tkinter import messagebox\n",
    "from PIL import ImageTk, Image\n",
    "import random\n",
    "import urllib.request\n",
    "import ssl\n",
    "from collections import Counter\n",
    "\n",
    "def lotto_first():\n",
    "    global num\n",
    "    num = askinteger('lotto','총 몇 회차의 번호의 횟수을 알고싶나요?',minvalue = 1,maxvalue=100)\n",
    "\n",
    "def lotto_count():\n",
    "    global num,counter_lot,co,text\n",
    "    num =0\n",
    "    window2 = Tk()\n",
    "    window2.title('lotto')\n",
    "    window2.resizable(width=TRUE,height=TRUE)\n",
    "    window2.geometry('700x580-800+200')\n",
    "\n",
    "\n",
    "    context = ssl._create_unverified_context()\n",
    "    label2 = Label(window2,text = 'lotto 1등 번호 빈도수',font=('bold',30))\n",
    "    label2.pack(side=TOP)\n",
    "    \n",
    "    num = askinteger('lotto','총 몇 회차의 번호의 횟수을 알고싶나요?',minvalue = 1,maxvalue=100)\n",
    "#     buttonl = Button(window2,text = '기 밀',command = lotto_first)\n",
    "#     buttonl.pack(side=TOP)\n",
    "    all_num = []\n",
    "    for i in range(num):\n",
    "        window2.wm_attributes(\"-topmost\", 1)\n",
    "        num = 979-i\n",
    "        num = str(num)\n",
    "        URL = \"https://www.dhlottery.co.kr/common.do?method=getLottoNumber&drwNo=\"+num\n",
    "        page = urllib.request.urlopen(URL, context=context)\n",
    "        text = page.read().decode(\"utf8\")  # 해당 페이지의 소스코드\n",
    "        for k in range(1,7):\n",
    "            k=str(k)\n",
    "            target_name = 'drwtNo'+k+'\":'\n",
    "            target_idx = text.find(target_name)\n",
    "            target = text[target_idx+len(target_name):target_idx+len(target_name)+2]\n",
    "            all_num.append(target)\n",
    "\n",
    "    for i,v in enumerate(all_num):\n",
    "        if ',' in v:\n",
    "            v = v[0]\n",
    "            all_num[i] = v\n",
    "        elif '}' in v:\n",
    "            v = v[0]\n",
    "            all_num[i] = v\n",
    "\n",
    "    counter_lot = Counter(all_num)\n",
    "    counter_lot = sorted(counter_lot.items(), key=lambda x: x[1], reverse=True)\n",
    "    co=0\n",
    "    if int(num) <979:\n",
    "        while counter_lot[5+co][1] == counter_lot[6+co][1]:\n",
    "            co+=1\n",
    "    labell = [None]*6\n",
    "    labell2 = [None]*co\n",
    "    for i in range(6):\n",
    "        labell[i]=Label(window2,text = f'숫자 : {counter_lot[i][0]} | 횟수 : {counter_lot[i][1]}')\n",
    "        labell[i].pack(side=TOP)\n",
    "    if co!=0:\n",
    "        labell3 = Label(window2,text='그 외의 동률 숫자 :',font=('bold',20))\n",
    "        labell3.pack(side=LEFT)\n",
    "        for ro in range(co):\n",
    "            labell2[ro] = Label(window2,text = f' 숫자 : {counter_lot[6+ro][0]} | 횟수 : {counter_lot[6+ro][1]}',font=('bold',15))\n",
    "            labell2[ro].pack(side=LEFT)\n",
    "    else :\n",
    "        pass\n",
    "    window2.mainloop()\n",
    "img_path = 'games/'\n",
    "\n",
    "window = Tk()\n",
    "\n",
    "window.title('미니 게임')\n",
    "window.geometry('1000x600')\n",
    "window.resizable(width=FALSE,height=FALSE)\n",
    "\n",
    "button1_2 = Button(window,text = '1등 번호 data',command = lotto_count)\n",
    "\n",
    "button1_2.place(x=80,y=20)\n",
    "\n",
    "window.mainloop()"
   ]
  },
  {
   "cell_type": "code",
   "execution_count": 10,
   "id": "baaac1c9",
   "metadata": {},
   "outputs": [
    {
     "data": {
      "text/plain": [
       "'{\"totSellamnt\":99507886000,\"returnValue\":\"success\",\"drwNoDate\":\"2021-09-04\",\"firstWinamnt\":1606400518,\"drwtNo6\":33,\"drwtNo4\":21,\"firstPrzwnerCo\":14,\"drwtNo5\":27,\"bnusNo\":24,\"firstAccumamnt\":22489607252,\"drwNo\":979,\"drwtNo2\":11,\"drwtNo3\":16,\"drwtNo1\":7}'"
      ]
     },
     "execution_count": 10,
     "metadata": {},
     "output_type": "execute_result"
    }
   ],
   "source": [
    "text"
   ]
  },
  {
   "cell_type": "code",
   "execution_count": null,
   "id": "291cbb18",
   "metadata": {},
   "outputs": [],
   "source": []
  },
  {
   "cell_type": "code",
   "execution_count": null,
   "id": "0caa4e3f",
   "metadata": {},
   "outputs": [],
   "source": []
  },
  {
   "cell_type": "code",
   "execution_count": null,
   "id": "b3463dfd",
   "metadata": {},
   "outputs": [],
   "source": []
  },
  {
   "cell_type": "code",
   "execution_count": 2,
   "id": "bc844ca2",
   "metadata": {},
   "outputs": [
    {
     "data": {
      "text/plain": [
       "[('2', 8),\n",
       " ('9', 8),\n",
       " ('1', 7),\n",
       " ('37', 7),\n",
       " ('21', 6),\n",
       " ('22', 6),\n",
       " ('24', 6),\n",
       " ('11', 5),\n",
       " ('42', 5),\n",
       " ('4', 5),\n",
       " ('12', 5),\n",
       " ('39', 5),\n",
       " ('41', 5),\n",
       " ('6', 5),\n",
       " ('28', 5),\n",
       " ('29', 5),\n",
       " ('40', 5),\n",
       " ('7', 4),\n",
       " ('16', 4),\n",
       " ('33', 4),\n",
       " ('15', 4),\n",
       " ('34', 4),\n",
       " ('10', 4),\n",
       " ('14', 4),\n",
       " ('25', 4),\n",
       " ('26', 4),\n",
       " ('31', 4),\n",
       " ('36', 4),\n",
       " ('35', 3),\n",
       " ('17', 3),\n",
       " ('3', 3),\n",
       " ('23', 3),\n",
       " ('18', 3),\n",
       " ('43', 3),\n",
       " ('30', 3),\n",
       " ('27', 2),\n",
       " ('32', 2),\n",
       " ('44', 2),\n",
       " ('45', 2),\n",
       " ('13', 2),\n",
       " ('38', 2),\n",
       " ('20', 2),\n",
       " ('8', 1),\n",
       " ('5', 1),\n",
       " ('19', 1)]"
      ]
     },
     "execution_count": 2,
     "metadata": {},
     "output_type": "execute_result"
    }
   ],
   "source": [
    "counter_lot"
   ]
  },
  {
   "cell_type": "code",
   "execution_count": 5,
   "id": "331c1ba7",
   "metadata": {},
   "outputs": [
    {
     "data": {
      "text/plain": [
       "1"
      ]
     },
     "execution_count": 5,
     "metadata": {},
     "output_type": "execute_result"
    }
   ],
   "source": [
    "co"
   ]
  },
  {
   "cell_type": "code",
   "execution_count": null,
   "id": "f2747e7f",
   "metadata": {},
   "outputs": [],
   "source": []
  },
  {
   "cell_type": "code",
   "execution_count": null,
   "id": "7e25b472",
   "metadata": {},
   "outputs": [],
   "source": []
  },
  {
   "cell_type": "code",
   "execution_count": null,
   "id": "9ea51648",
   "metadata": {},
   "outputs": [],
   "source": []
  },
  {
   "cell_type": "code",
   "execution_count": null,
   "id": "bcf208bb",
   "metadata": {},
   "outputs": [],
   "source": []
  },
  {
   "cell_type": "code",
   "execution_count": null,
   "id": "400bfeef",
   "metadata": {},
   "outputs": [],
   "source": [
    "i"
   ]
  },
  {
   "cell_type": "code",
   "execution_count": null,
   "id": "cf18548a",
   "metadata": {},
   "outputs": [],
   "source": []
  },
  {
   "cell_type": "code",
   "execution_count": null,
   "id": "027f4d7a",
   "metadata": {},
   "outputs": [],
   "source": []
  },
  {
   "cell_type": "code",
   "execution_count": null,
   "id": "99c9f07d",
   "metadata": {},
   "outputs": [],
   "source": []
  },
  {
   "cell_type": "code",
   "execution_count": null,
   "id": "6ad71484",
   "metadata": {},
   "outputs": [],
   "source": []
  },
  {
   "cell_type": "code",
   "execution_count": null,
   "id": "0c71b87e",
   "metadata": {},
   "outputs": [],
   "source": [
    "counter_lot"
   ]
  },
  {
   "cell_type": "code",
   "execution_count": null,
   "id": "23466977",
   "metadata": {},
   "outputs": [],
   "source": [
    "i"
   ]
  },
  {
   "cell_type": "code",
   "execution_count": null,
   "id": "b71cf4bd",
   "metadata": {},
   "outputs": [],
   "source": []
  },
  {
   "cell_type": "code",
   "execution_count": null,
   "id": "2255a58b",
   "metadata": {},
   "outputs": [],
   "source": []
  },
  {
   "cell_type": "code",
   "execution_count": null,
   "id": "fc58fe61",
   "metadata": {},
   "outputs": [],
   "source": [
    "counter_lot\n"
   ]
  },
  {
   "cell_type": "code",
   "execution_count": null,
   "id": "4c7fdda8",
   "metadata": {},
   "outputs": [],
   "source": []
  },
  {
   "cell_type": "code",
   "execution_count": null,
   "id": "bef1c59f",
   "metadata": {},
   "outputs": [],
   "source": [
    "counter_lot[:][1]"
   ]
  },
  {
   "cell_type": "code",
   "execution_count": null,
   "id": "5847fc8b",
   "metadata": {},
   "outputs": [],
   "source": []
  },
  {
   "cell_type": "code",
   "execution_count": null,
   "id": "06b7f661",
   "metadata": {},
   "outputs": [],
   "source": []
  },
  {
   "cell_type": "code",
   "execution_count": null,
   "id": "64c927da",
   "metadata": {},
   "outputs": [],
   "source": []
  },
  {
   "cell_type": "code",
   "execution_count": null,
   "id": "e0b46e86",
   "metadata": {},
   "outputs": [],
   "source": []
  },
  {
   "cell_type": "code",
   "execution_count": null,
   "id": "7aa98d62",
   "metadata": {},
   "outputs": [],
   "source": []
  },
  {
   "cell_type": "code",
   "execution_count": null,
   "id": "5f666b25",
   "metadata": {},
   "outputs": [],
   "source": []
  },
  {
   "cell_type": "code",
   "execution_count": null,
   "id": "08e87205",
   "metadata": {},
   "outputs": [],
   "source": []
  },
  {
   "cell_type": "code",
   "execution_count": null,
   "id": "a38cb629",
   "metadata": {},
   "outputs": [],
   "source": []
  },
  {
   "cell_type": "code",
   "execution_count": null,
   "id": "7e53e76d",
   "metadata": {},
   "outputs": [],
   "source": []
  },
  {
   "cell_type": "code",
   "execution_count": null,
   "id": "08fad3e1",
   "metadata": {},
   "outputs": [],
   "source": []
  },
  {
   "cell_type": "code",
   "execution_count": null,
   "id": "cb823de8",
   "metadata": {},
   "outputs": [],
   "source": []
  },
  {
   "cell_type": "code",
   "execution_count": null,
   "id": "17c3003e",
   "metadata": {},
   "outputs": [],
   "source": []
  },
  {
   "cell_type": "code",
   "execution_count": null,
   "id": "000fd3ad",
   "metadata": {},
   "outputs": [],
   "source": []
  },
  {
   "cell_type": "code",
   "execution_count": null,
   "id": "dda2c666",
   "metadata": {},
   "outputs": [],
   "source": []
  },
  {
   "cell_type": "code",
   "execution_count": null,
   "id": "d7663aeb",
   "metadata": {},
   "outputs": [],
   "source": []
  },
  {
   "cell_type": "code",
   "execution_count": null,
   "id": "c8ea98b8",
   "metadata": {},
   "outputs": [],
   "source": []
  },
  {
   "cell_type": "code",
   "execution_count": null,
   "id": "4d122df3",
   "metadata": {},
   "outputs": [],
   "source": []
  },
  {
   "cell_type": "code",
   "execution_count": null,
   "id": "ba010bae",
   "metadata": {},
   "outputs": [],
   "source": []
  },
  {
   "cell_type": "code",
   "execution_count": null,
   "id": "298e64ee",
   "metadata": {},
   "outputs": [],
   "source": []
  },
  {
   "cell_type": "code",
   "execution_count": null,
   "id": "da94f65f",
   "metadata": {},
   "outputs": [],
   "source": []
  },
  {
   "cell_type": "code",
   "execution_count": null,
   "id": "8dbbea31",
   "metadata": {},
   "outputs": [],
   "source": []
  },
  {
   "cell_type": "code",
   "execution_count": null,
   "id": "04a95b78",
   "metadata": {},
   "outputs": [],
   "source": []
  },
  {
   "cell_type": "code",
   "execution_count": null,
   "id": "a5259c48",
   "metadata": {},
   "outputs": [],
   "source": []
  },
  {
   "cell_type": "code",
   "execution_count": null,
   "id": "39de8977",
   "metadata": {},
   "outputs": [],
   "source": []
  },
  {
   "cell_type": "code",
   "execution_count": null,
   "id": "941c69de",
   "metadata": {},
   "outputs": [],
   "source": []
  },
  {
   "cell_type": "code",
   "execution_count": null,
   "id": "8ad3ee6b",
   "metadata": {},
   "outputs": [],
   "source": []
  },
  {
   "cell_type": "code",
   "execution_count": null,
   "id": "da931cdd",
   "metadata": {},
   "outputs": [],
   "source": []
  },
  {
   "cell_type": "code",
   "execution_count": null,
   "id": "ce2ba665",
   "metadata": {},
   "outputs": [],
   "source": []
  },
  {
   "cell_type": "code",
   "execution_count": null,
   "id": "4ebbc922",
   "metadata": {},
   "outputs": [],
   "source": [
    "root = Tk()\n",
    "root.geometry(\"300x200-500+140\")\n",
    "root.mainloop()"
   ]
  },
  {
   "cell_type": "code",
   "execution_count": null,
   "id": "991eb86e",
   "metadata": {},
   "outputs": [],
   "source": []
  },
  {
   "cell_type": "code",
   "execution_count": null,
   "id": "9f423206",
   "metadata": {},
   "outputs": [],
   "source": []
  },
  {
   "cell_type": "code",
   "execution_count": null,
   "id": "cee5ebb0",
   "metadata": {},
   "outputs": [],
   "source": []
  },
  {
   "cell_type": "code",
   "execution_count": null,
   "id": "5171622c",
   "metadata": {},
   "outputs": [],
   "source": []
  },
  {
   "cell_type": "code",
   "execution_count": null,
   "id": "c002c8ba",
   "metadata": {},
   "outputs": [],
   "source": []
  },
  {
   "cell_type": "code",
   "execution_count": null,
   "id": "cefe089c",
   "metadata": {},
   "outputs": [],
   "source": []
  },
  {
   "cell_type": "code",
   "execution_count": null,
   "id": "73d93126",
   "metadata": {},
   "outputs": [],
   "source": []
  },
  {
   "cell_type": "code",
   "execution_count": null,
   "id": "153a7bcd",
   "metadata": {},
   "outputs": [],
   "source": []
  },
  {
   "cell_type": "code",
   "execution_count": null,
   "id": "7cff5255",
   "metadata": {},
   "outputs": [],
   "source": [
    "import tkinter\n",
    "\n",
    "window=tkinter.Tk()\n",
    "window.title(\"YUN DAE HEE\")\n",
    "window.geometry(\"640x400+100+100\")\n",
    "window.resizable(False, False)\n",
    "\n",
    "menubar=tkinter.Menu(window)\n",
    "\n",
    "menu_1=tkinter.Menu(menubar, tearoff=0)\n",
    "menu_1.add_command(label=\"하위 메뉴 1-1\")\n",
    "menu_1.add_command(label=\"하위 메뉴 1-2\")\n",
    "menu_1.add_separator()\n",
    "menu_1.add_command(label=\"하위 메뉴 1-3\")\n",
    "menubar.add_cascade(label=\"상위 메뉴 1\", menu=menu_1)\n",
    "\n",
    "toplevel=tkinter.Toplevel(window)\n",
    "toplevel.geometry(\"320x200+820+100\")\n",
    "\n",
    "label=tkinter.Label(toplevel, text=\"YUN DAE HEE\")\n",
    "label.pack()\n",
    "\n",
    "window.mainloop()"
   ]
  },
  {
   "cell_type": "code",
   "execution_count": null,
   "id": "65014e42",
   "metadata": {},
   "outputs": [],
   "source": []
  },
  {
   "cell_type": "code",
   "execution_count": null,
   "id": "eba7d31a",
   "metadata": {},
   "outputs": [],
   "source": [
    "counter_lot"
   ]
  },
  {
   "cell_type": "code",
   "execution_count": null,
   "id": "81a85690",
   "metadata": {},
   "outputs": [],
   "source": [
    "len(counter_lot)"
   ]
  },
  {
   "cell_type": "code",
   "execution_count": null,
   "id": "97fed79f",
   "metadata": {},
   "outputs": [],
   "source": [
    "list(counter_lot.keys())[16]"
   ]
  },
  {
   "cell_type": "code",
   "execution_count": null,
   "id": "882d9f55",
   "metadata": {},
   "outputs": [],
   "source": [
    "list(counter_lot.values())[16]"
   ]
  },
  {
   "cell_type": "code",
   "execution_count": null,
   "id": "fe470553",
   "metadata": {},
   "outputs": [],
   "source": []
  },
  {
   "cell_type": "code",
   "execution_count": null,
   "id": "655176f2",
   "metadata": {},
   "outputs": [],
   "source": [
    "del a[1]"
   ]
  },
  {
   "cell_type": "code",
   "execution_count": null,
   "id": "af9b1909",
   "metadata": {},
   "outputs": [],
   "source": [
    "a"
   ]
  },
  {
   "cell_type": "code",
   "execution_count": null,
   "id": "99185beb",
   "metadata": {},
   "outputs": [],
   "source": []
  }
 ],
 "metadata": {
  "kernelspec": {
   "display_name": "Python 3 (ipykernel)",
   "language": "python",
   "name": "python3"
  },
  "language_info": {
   "codemirror_mode": {
    "name": "ipython",
    "version": 3
   },
   "file_extension": ".py",
   "mimetype": "text/x-python",
   "name": "python",
   "nbconvert_exporter": "python",
   "pygments_lexer": "ipython3",
   "version": "3.8.0"
  }
 },
 "nbformat": 4,
 "nbformat_minor": 5
}
