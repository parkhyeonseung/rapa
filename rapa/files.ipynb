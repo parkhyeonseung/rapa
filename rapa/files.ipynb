{
 "cells": [
  {
   "cell_type": "markdown",
   "id": "e01f2871",
   "metadata": {},
   "source": [
    "## 경로찾기"
   ]
  },
  {
   "cell_type": "code",
   "execution_count": 9,
   "id": "a611d915",
   "metadata": {},
   "outputs": [
    {
     "name": "stdout",
     "output_type": "stream",
     "text": [
      "__file__\n",
      "1 \n",
      "2 C:\\python\\rapa\\test.py\n",
      "3 C:\\python\\rapa\\test.py\n",
      "4 C:\\python\\rapa\n",
      "5 C:\\python\\rapa\n"
     ]
    }
   ],
   "source": [
    "import os\n",
    "print('__file__')\n",
    "print(1,os.path.dirname('test.py'))# 경로 중 디렉토리명만 얻기 ''안에 있는 것중 경로만 반환\n",
    "print(2,os.path.realpath('test.py'))\n",
    "print(3,os.path.abspath('test.py'))\n",
    "print(4,os.getcwd())   ## 현재 dir반환\n",
    "print(5,os.path.dirname(os.path.realpath('test.py')))"
   ]
  },
  {
   "cell_type": "code",
   "execution_count": 14,
   "id": "070853b7",
   "metadata": {},
   "outputs": [
    {
     "name": "stdout",
     "output_type": "stream",
     "text": [
      "['DLLs', 'Doc', 'etc', 'include', 'Lib', 'libs', 'LICENSE.txt', 'NEWS.txt', 'python.exe', 'python3.dll', 'python38.dll', 'pythonw.exe', 'rapa', 'Scripts', 'share', 'tcl', 'Tools', 'vcruntime140.dll', 'vcruntime140_1.dll']\n"
     ]
    }
   ],
   "source": [
    "print(os.listdir('../'))    # 현재 디렉토리에 있는 파일 목록가져오기"
   ]
  },
  {
   "cell_type": "code",
   "execution_count": 13,
   "id": "3a209549",
   "metadata": {},
   "outputs": [
    {
     "name": "stdout",
     "output_type": "stream",
     "text": [
      "C:\\python\\rapa\n"
     ]
    }
   ],
   "source": [
    "dir = '../'    # dir지정, ./ : 현재 디렉토리, ../ : 상위 디렉토리\n",
    "os.chdir(dir)   # 디렉토리 변경\n",
    "path = os.getcwd()\n",
    "print(path)"
   ]
  },
  {
   "cell_type": "code",
   "execution_count": 44,
   "id": "e482199f",
   "metadata": {},
   "outputs": [
    {
     "name": "stdout",
     "output_type": "stream",
     "text": [
      "already exists dir\n"
     ]
    }
   ],
   "source": [
    "import os\n",
    "def createfolder(directory):\n",
    "    try:\n",
    "        if not os.path.exists(directory):\n",
    "            os.makedirs(directory)\n",
    "        else:\n",
    "            print('already exists dir')\n",
    "    except OSError:\n",
    "        print('Error'+directory)\n",
    "dirname = 'C:/aaa/rapa/data'\n",
    "createfolder(dirname)"
   ]
  },
  {
   "cell_type": "code",
   "execution_count": 47,
   "id": "11e4f005",
   "metadata": {},
   "outputs": [
    {
     "ename": "FileExistsError",
     "evalue": "[WinError 183] 파일이 이미 있으므로 만들 수 없습니다: 'C:/aaa/rapa/data'",
     "output_type": "error",
     "traceback": [
      "\u001b[1;31m---------------------------------------------------------------------------\u001b[0m",
      "\u001b[1;31mFileExistsError\u001b[0m                           Traceback (most recent call last)",
      "\u001b[1;32m~\\AppData\\Local\\Temp/ipykernel_4868/1870350776.py\u001b[0m in \u001b[0;36m<module>\u001b[1;34m\u001b[0m\n\u001b[0;32m      7\u001b[0m         \u001b[0mprint\u001b[0m\u001b[1;33m(\u001b[0m\u001b[1;34m'Error'\u001b[0m\u001b[1;33m+\u001b[0m\u001b[0mdirectory\u001b[0m\u001b[1;33m)\u001b[0m\u001b[1;33m\u001b[0m\u001b[1;33m\u001b[0m\u001b[0m\n\u001b[0;32m      8\u001b[0m \u001b[0mdirname\u001b[0m \u001b[1;33m=\u001b[0m \u001b[1;34m'C:/aaa/rapa/data'\u001b[0m\u001b[1;33m\u001b[0m\u001b[1;33m\u001b[0m\u001b[0m\n\u001b[1;32m----> 9\u001b[1;33m \u001b[0mcreatefolder\u001b[0m\u001b[1;33m(\u001b[0m\u001b[0mdirname\u001b[0m\u001b[1;33m)\u001b[0m\u001b[1;33m\u001b[0m\u001b[1;33m\u001b[0m\u001b[0m\n\u001b[0m",
      "\u001b[1;32m~\\AppData\\Local\\Temp/ipykernel_4868/1870350776.py\u001b[0m in \u001b[0;36mcreatefolder\u001b[1;34m(directory)\u001b[0m\n\u001b[0;32m      2\u001b[0m \u001b[1;32mdef\u001b[0m \u001b[0mcreatefolder\u001b[0m\u001b[1;33m(\u001b[0m\u001b[0mdirectory\u001b[0m\u001b[1;33m)\u001b[0m\u001b[1;33m:\u001b[0m\u001b[1;33m\u001b[0m\u001b[1;33m\u001b[0m\u001b[0m\n\u001b[0;32m      3\u001b[0m \u001b[1;31m#     try:\u001b[0m\u001b[1;33m\u001b[0m\u001b[1;33m\u001b[0m\u001b[1;33m\u001b[0m\u001b[0m\n\u001b[1;32m----> 4\u001b[1;33m         \u001b[0mos\u001b[0m\u001b[1;33m.\u001b[0m\u001b[0mmakedirs\u001b[0m\u001b[1;33m(\u001b[0m\u001b[0mdirectory\u001b[0m\u001b[1;33m)\u001b[0m\u001b[1;33m\u001b[0m\u001b[1;33m\u001b[0m\u001b[0m\n\u001b[0m\u001b[0;32m      5\u001b[0m \u001b[1;33m\u001b[0m\u001b[0m\n\u001b[0;32m      6\u001b[0m \u001b[1;31m#     except OSError:\u001b[0m\u001b[1;33m\u001b[0m\u001b[1;33m\u001b[0m\u001b[1;33m\u001b[0m\u001b[0m\n",
      "\u001b[1;32mc:\\python\\lib\\os.py\u001b[0m in \u001b[0;36mmakedirs\u001b[1;34m(name, mode, exist_ok)\u001b[0m\n\u001b[0;32m    221\u001b[0m             \u001b[1;32mreturn\u001b[0m\u001b[1;33m\u001b[0m\u001b[1;33m\u001b[0m\u001b[0m\n\u001b[0;32m    222\u001b[0m     \u001b[1;32mtry\u001b[0m\u001b[1;33m:\u001b[0m\u001b[1;33m\u001b[0m\u001b[1;33m\u001b[0m\u001b[0m\n\u001b[1;32m--> 223\u001b[1;33m         \u001b[0mmkdir\u001b[0m\u001b[1;33m(\u001b[0m\u001b[0mname\u001b[0m\u001b[1;33m,\u001b[0m \u001b[0mmode\u001b[0m\u001b[1;33m)\u001b[0m\u001b[1;33m\u001b[0m\u001b[1;33m\u001b[0m\u001b[0m\n\u001b[0m\u001b[0;32m    224\u001b[0m     \u001b[1;32mexcept\u001b[0m \u001b[0mOSError\u001b[0m\u001b[1;33m:\u001b[0m\u001b[1;33m\u001b[0m\u001b[1;33m\u001b[0m\u001b[0m\n\u001b[0;32m    225\u001b[0m         \u001b[1;31m# Cannot rely on checking for EEXIST, since the operating system\u001b[0m\u001b[1;33m\u001b[0m\u001b[1;33m\u001b[0m\u001b[1;33m\u001b[0m\u001b[0m\n",
      "\u001b[1;31mFileExistsError\u001b[0m: [WinError 183] 파일이 이미 있으므로 만들 수 없습니다: 'C:/aaa/rapa/data'"
     ]
    }
   ],
   "source": [
    "import os\n",
    "def createfolder(directory):\n",
    "#     try:\n",
    "        os.makedirs(directory)\n",
    "            \n",
    "#     except OSError:\n",
    "        print('Error'+directory)\n",
    "dirname = 'C:/aaa/rapa/data'\n",
    "createfolder(dirname)"
   ]
  },
  {
   "cell_type": "code",
   "execution_count": 56,
   "id": "fbf84a8e",
   "metadata": {},
   "outputs": [],
   "source": [
    "import os\n",
    "def deletefolder(directory):\n",
    "    try:\n",
    "        if os.path.exists(directory):\n",
    "            os.rmdir(directory)\n",
    "    except OSError:\n",
    "        print('Error '+directory)\n",
    "dirname = 'C:/aaa'\n",
    "deletefolder(dirname)"
   ]
  },
  {
   "cell_type": "code",
   "execution_count": 83,
   "id": "70429d98",
   "metadata": {
    "scrolled": true
   },
   "outputs": [
    {
     "name": "stdout",
     "output_type": "stream",
     "text": [
      "파일 리스트:\n",
      " .ipynb_checkpoints\n",
      "01-python-basic order.ipynb\n",
      "02-python-index.ipynb\n",
      "02-파이썬라이브러리-01-numpy.ipynb\n",
      "03_python_loop.ipynb\n",
      "03_python_자료형.ipynb\n",
      "04_function.ipynb\n",
      "04_other_function.ipynb\n",
      "04_tuple_dict_set.ipynb\n",
      "05_Class.ipynb\n",
      "05_filter_recursiveFunc_package.ipynb\n",
      "05_numpy.ipynb\n",
      "files.ipynb\n",
      "test.py\n",
      "\n",
      "파일 경로 :  C:\\python\\rapa\n",
      "None\n"
     ]
    }
   ],
   "source": [
    "import os\n",
    "def getdirlist(dirname,printoption = False):\n",
    "    global path,dir_list\n",
    "    path = os.path.realpath(dirname)\n",
    "    dir_list = os.listdir(dirname)\n",
    "    if printoption == True:\n",
    "        print('파일 리스트:\\n','\\n'.join(dir_list))\n",
    "        print()\n",
    "        print('파일 경로 : ',path)\n",
    "    else :\n",
    "        print('파일 리스트:\\n','\\n'.join(dir_list))\n",
    "        \n",
    "# print(getdirlist('./'))\n",
    "print(getdirlist('C:/python/rapa',True))\n",
    "# print(getdirlist('../',False))"
   ]
  },
  {
   "cell_type": "markdown",
   "id": "2d92f188",
   "metadata": {},
   "source": [
    "## 파일(txt) 쓰고 읽기"
   ]
  },
  {
   "cell_type": "code",
   "execution_count": 84,
   "id": "25ba73e8",
   "metadata": {},
   "outputs": [],
   "source": [
    "f = open('C:/python/rapa/newfile.txt','w')\n",
    "f.close()"
   ]
  },
  {
   "cell_type": "code",
   "execution_count": 93,
   "id": "348a2f14",
   "metadata": {},
   "outputs": [],
   "source": [
    "f = open('newfile.txt','w')\n",
    "for i in range(3,11):\n",
    "    data = '%d 번째 줄입니다.\\n' %i\n",
    "    f.write(data)\n",
    "f.close()"
   ]
  },
  {
   "cell_type": "code",
   "execution_count": 94,
   "id": "726a9eaa",
   "metadata": {},
   "outputs": [
    {
     "name": "stdout",
     "output_type": "stream",
     "text": [
      "3 번째 줄입니다.\n",
      "\n",
      "4 번째 줄입니다.\n",
      "\n",
      "5 번째 줄입니다.\n",
      "\n",
      "6 번째 줄입니다.\n",
      "\n",
      "7 번째 줄입니다.\n",
      "\n",
      "8 번째 줄입니다.\n",
      "\n",
      "9 번째 줄입니다.\n",
      "\n",
      "10 번째 줄입니다.\n",
      "\n"
     ]
    }
   ],
   "source": [
    "f=open('newfile.txt','r')\n",
    "while True:\n",
    "    line = f.readline()\n",
    "    if not line:break\n",
    "    print(line)\n",
    "f.close()"
   ]
  },
  {
   "cell_type": "code",
   "execution_count": 95,
   "id": "a65c4d93",
   "metadata": {},
   "outputs": [
    {
     "name": "stdout",
     "output_type": "stream",
     "text": [
      "['3 번째 줄입니다.\\n', '4 번째 줄입니다.\\n', '5 번째 줄입니다.\\n', '6 번째 줄입니다.\\n', '7 번째 줄입니다.\\n', '8 번째 줄입니다.\\n', '9 번째 줄입니다.\\n', '10 번째 줄입니다.\\n']\n",
      "3 번째 줄입니다.\n",
      "\n",
      "4 번째 줄입니다.\n",
      "\n",
      "5 번째 줄입니다.\n",
      "\n",
      "6 번째 줄입니다.\n",
      "\n",
      "7 번째 줄입니다.\n",
      "\n",
      "8 번째 줄입니다.\n",
      "\n",
      "9 번째 줄입니다.\n",
      "\n",
      "10 번째 줄입니다.\n",
      "\n"
     ]
    }
   ],
   "source": [
    "f=open('newfile.txt','r')\n",
    "lines = f.readlines()\n",
    "print(lines)\n",
    "for line in lines:\n",
    "    print(line)\n",
    "f.close()"
   ]
  },
  {
   "cell_type": "code",
   "execution_count": 98,
   "id": "3ae62057",
   "metadata": {},
   "outputs": [
    {
     "name": "stdout",
     "output_type": "stream",
     "text": [
      "3 번째 줄입니다.\n",
      "4 번째 줄입니다.\n",
      "5 번째 줄입니다.\n",
      "6 번째 줄입니다.\n",
      "7 번째 줄입니다.\n",
      "8 번째 줄입니다.\n",
      "9 번째 줄입니다.\n",
      "10 번째 줄입니다.\n",
      "\n",
      "3\n",
      " \n",
      "번\n",
      "째\n",
      " \n",
      "줄\n",
      "입\n",
      "니\n",
      "다\n",
      ".\n",
      "\n",
      "\n",
      "4\n",
      " \n",
      "번\n",
      "째\n",
      " \n",
      "줄\n",
      "입\n",
      "니\n",
      "다\n",
      ".\n",
      "\n",
      "\n",
      "5\n",
      " \n",
      "번\n",
      "째\n",
      " \n",
      "줄\n",
      "입\n",
      "니\n",
      "다\n",
      ".\n",
      "\n",
      "\n",
      "6\n",
      " \n",
      "번\n",
      "째\n",
      " \n",
      "줄\n",
      "입\n",
      "니\n",
      "다\n",
      ".\n",
      "\n",
      "\n",
      "7\n",
      " \n",
      "번\n",
      "째\n",
      " \n",
      "줄\n",
      "입\n",
      "니\n",
      "다\n",
      ".\n",
      "\n",
      "\n",
      "8\n",
      " \n",
      "번\n",
      "째\n",
      " \n",
      "줄\n",
      "입\n",
      "니\n",
      "다\n",
      ".\n",
      "\n",
      "\n",
      "9\n",
      " \n",
      "번\n",
      "째\n",
      " \n",
      "줄\n",
      "입\n",
      "니\n",
      "다\n",
      ".\n",
      "\n",
      "\n",
      "1\n",
      "0\n",
      " \n",
      "번\n",
      "째\n",
      " \n",
      "줄\n",
      "입\n",
      "니\n",
      "다\n",
      ".\n",
      "\n",
      "\n"
     ]
    }
   ],
   "source": [
    "f = open('newfile.txt','r')\n",
    "data = f.read()\n",
    "print(data)\n",
    "for d in data:\n",
    "    print(d)\n",
    "f.close()"
   ]
  },
  {
   "cell_type": "code",
   "execution_count": 99,
   "id": "8c940ac0",
   "metadata": {},
   "outputs": [],
   "source": [
    "f = open('newfile.txt','a')\n",
    "for i in range(3,11):\n",
    "    data = '%d 번째 줄입니다.\\n' %i\n",
    "    f.write(data)\n",
    "f.close()"
   ]
  },
  {
   "cell_type": "code",
   "execution_count": 112,
   "id": "6efc818b",
   "metadata": {},
   "outputs": [],
   "source": [
    "import random\n",
    "with open('sample.txt','w') as f:\n",
    "    for i in range(10):\n",
    "        f.write('%d\\n'%random.randrange(1,101))\n",
    "        "
   ]
  },
  {
   "cell_type": "code",
   "execution_count": 114,
   "id": "4539592e",
   "metadata": {},
   "outputs": [],
   "source": [
    "import random\n",
    "a=[]\n",
    "with open('sample.txt','r') as f:\n",
    "    lines = f.readlines()\n",
    "    for line in lines:\n",
    "        a.append(int(line))\n",
    "    with open('result.txt','w') as r:\n",
    "        a_sum = sum(a)\n",
    "        a_mean = a_sum/len(a)\n",
    "        r.write(f'{a}의\\n총합은 {a_sum} 입니다.\\n평균은 {a_mean} 입니다.')"
   ]
  },
  {
   "cell_type": "code",
   "execution_count": 138,
   "id": "4fd385a9",
   "metadata": {},
   "outputs": [],
   "source": [
    "dicText = {\n",
    "    '13':'20',\n",
    "    '토트넘':'맨체스터유나이티드',\n",
    "    '해리 케인':'박지성',\n",
    "    '손흥민':'이승우'\n",
    "}\n",
    "with open('C:/python/rapa/data/article.txt','r' ,encoding = 'UTF8') as f:\n",
    "    for line in f.readlines():\n",
    "        for key in dicText.keys():\n",
    "            if key in line:\n",
    "                line = line.replace(key,dicText[key])\n",
    "        with open('C:/python/rapa/data/result2.txt','a') as p:\n",
    "            p.write(f'{line}')"
   ]
  },
  {
   "cell_type": "markdown",
   "id": "78d1e701",
   "metadata": {},
   "source": [
    "## csv"
   ]
  },
  {
   "cell_type": "code",
   "execution_count": null,
   "id": "7d0da951",
   "metadata": {},
   "outputs": [],
   "source": []
  }
 ],
 "metadata": {
  "kernelspec": {
   "display_name": "Python 3 (ipykernel)",
   "language": "python",
   "name": "python3"
  },
  "language_info": {
   "codemirror_mode": {
    "name": "ipython",
    "version": 3
   },
   "file_extension": ".py",
   "mimetype": "text/x-python",
   "name": "python",
   "nbconvert_exporter": "python",
   "pygments_lexer": "ipython3",
   "version": "3.8.10"
  }
 },
 "nbformat": 4,
 "nbformat_minor": 5
}
