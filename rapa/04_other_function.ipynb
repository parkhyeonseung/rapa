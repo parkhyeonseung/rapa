{
 "cells": [
  {
   "cell_type": "markdown",
   "id": "4bf328d0",
   "metadata": {},
   "source": [
    "### exec() \n",
    "문자열을 코드로 실행시켜줌"
   ]
  },
  {
   "cell_type": "code",
   "execution_count": 1,
   "id": "e1474adf",
   "metadata": {},
   "outputs": [],
   "source": [
    "text = '''\n",
    "for i in range(1,13):\n",
    "    print(f'{i:<2}',end = ' ')\n",
    "    if i%4==0:\n",
    "        print()'''"
   ]
  },
  {
   "cell_type": "code",
   "execution_count": 2,
   "id": "6d1e18cb",
   "metadata": {},
   "outputs": [
    {
     "name": "stdout",
     "output_type": "stream",
     "text": [
      "1  2  3  4  \n",
      "5  6  7  8  \n",
      "9  10 11 12 \n"
     ]
    }
   ],
   "source": [
    "exec(text)"
   ]
  },
  {
   "cell_type": "markdown",
   "id": "7a19fa57",
   "metadata": {},
   "source": [
    "## lambda"
   ]
  },
  {
   "cell_type": "code",
   "execution_count": 4,
   "id": "df0bfd11",
   "metadata": {},
   "outputs": [
    {
     "name": "stdout",
     "output_type": "stream",
     "text": [
      "30\n"
     ]
    }
   ],
   "source": [
    "hap = lambda num1,num2:num1+num2\n",
    "print(hap(10,20))"
   ]
  },
  {
   "cell_type": "markdown",
   "id": "e3ad6aae",
   "metadata": {},
   "source": [
    "## map()\n",
    "인자를 두개 받으며, 함수와 순서가있는자료형을 받음. 함수에 자료형 대입"
   ]
  },
  {
   "cell_type": "code",
   "execution_count": 40,
   "id": "01899c71",
   "metadata": {},
   "outputs": [],
   "source": [
    "mylist = [1,2,3,4,5]"
   ]
  },
  {
   "cell_type": "code",
   "execution_count": 41,
   "id": "d9b62812",
   "metadata": {},
   "outputs": [],
   "source": [
    "mylist = list(map(lambda num:num+1,mylist))"
   ]
  },
  {
   "cell_type": "code",
   "execution_count": 42,
   "id": "7a04d029",
   "metadata": {},
   "outputs": [
    {
     "data": {
      "text/plain": [
       "[2, 3, 4, 5, 6]"
      ]
     },
     "execution_count": 42,
     "metadata": {},
     "output_type": "execute_result"
    }
   ],
   "source": [
    "mylist"
   ]
  },
  {
   "cell_type": "markdown",
   "id": "5d02e6a3",
   "metadata": {},
   "source": [
    "### lambda 와 map 을 이용한 comprehesion"
   ]
  },
  {
   "cell_type": "code",
   "execution_count": 31,
   "id": "823dabb0",
   "metadata": {},
   "outputs": [
    {
     "data": {
      "text/plain": [
       "[1, 2, '3', 4, 5, '6', 7, 8, 10]"
      ]
     },
     "execution_count": 31,
     "metadata": {},
     "output_type": "execute_result"
    }
   ],
   "source": [
    "#1\n",
    "mylist = [1,2,3,4,5,6,7,8,10]\n",
    "mylist = list(map(lambda x: str(x) if x%3==0 else x ,mylist))\n",
    "mylist"
   ]
  },
  {
   "cell_type": "code",
   "execution_count": 47,
   "id": "c8fbe990",
   "metadata": {},
   "outputs": [
    {
     "name": "stdout",
     "output_type": "stream",
     "text": [
      "[2, 8, 18, 32, 50]\n"
     ]
    }
   ],
   "source": [
    "#2\n",
    "mylist1 = [1,2,3,4,5]\n",
    "mylist2 = [2,4,6,8,10]\n",
    "print(list(map(lambda x,y : x*y ,mylist1,mylist2)))"
   ]
  },
  {
   "cell_type": "markdown",
   "id": "0ef82c5b",
   "metadata": {},
   "source": [
    "### 단순한 comprehension"
   ]
  },
  {
   "cell_type": "code",
   "execution_count": 39,
   "id": "8bc486d5",
   "metadata": {},
   "outputs": [
    {
     "data": {
      "text/plain": [
       "[1, 2, '3', 4, 5, '6', 7, 8, 10]"
      ]
     },
     "execution_count": 39,
     "metadata": {},
     "output_type": "execute_result"
    }
   ],
   "source": [
    "mylist = [1,2,3,4,5,6,7,8,10]\n",
    "mylist =  [str(x) if x%3==0 else x for x in mylist]\n",
    "mylist"
   ]
  },
  {
   "cell_type": "code",
   "execution_count": 46,
   "id": "ae80f2a2",
   "metadata": {},
   "outputs": [
    {
     "data": {
      "text/plain": [
       "0"
      ]
     },
     "execution_count": 46,
     "metadata": {},
     "output_type": "execute_result"
    }
   ],
   "source": [
    "mylist = [1,2,3,4,5,6,7,8,10]\n",
    "mylist.index(1)"
   ]
  },
  {
   "cell_type": "code",
   "execution_count": null,
   "id": "409b5768",
   "metadata": {},
   "outputs": [],
   "source": []
  }
 ],
 "metadata": {
  "kernelspec": {
   "display_name": "Python 3 (ipykernel)",
   "language": "python",
   "name": "python3"
  },
  "language_info": {
   "codemirror_mode": {
    "name": "ipython",
    "version": 3
   },
   "file_extension": ".py",
   "mimetype": "text/x-python",
   "name": "python",
   "nbconvert_exporter": "python",
   "pygments_lexer": "ipython3",
   "version": "3.8.10"
  }
 },
 "nbformat": 4,
 "nbformat_minor": 5
}
