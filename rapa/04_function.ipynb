{
 "cells": [
  {
   "cell_type": "markdown",
   "id": "12fe82d5",
   "metadata": {},
   "source": [
    "### Function"
   ]
  },
  {
   "cell_type": "code",
   "execution_count": 6,
   "id": "6749ca53",
   "metadata": {},
   "outputs": [
    {
     "data": {
      "text/plain": [
       "7"
      ]
     },
     "execution_count": 6,
     "metadata": {},
     "output_type": "execute_result"
    }
   ],
   "source": [
    "def add(p1, p2):\n",
    "    return p1+p2\n",
    "add(3,4)"
   ]
  },
  {
   "cell_type": "code",
   "execution_count": 8,
   "id": "d0c08466",
   "metadata": {},
   "outputs": [
    {
     "name": "stdout",
     "output_type": "stream",
     "text": [
      "8\n"
     ]
    }
   ],
   "source": [
    "def add1(p1,p2):\n",
    "    print(f'{p1+p2}')\n",
    "add1(3,5)"
   ]
  },
  {
   "cell_type": "code",
   "execution_count": 9,
   "id": "284e09ea",
   "metadata": {},
   "outputs": [
    {
     "data": {
      "text/plain": [
       "'python'"
      ]
     },
     "execution_count": 9,
     "metadata": {},
     "output_type": "execute_result"
    }
   ],
   "source": [
    "def add():\n",
    "    return 'python'\n",
    "add()"
   ]
  },
  {
   "cell_type": "code",
   "execution_count": 19,
   "id": "1ea7ae55",
   "metadata": {},
   "outputs": [
    {
     "name": "stdout",
     "output_type": "stream",
     "text": [
      "첫번째 숫자:879\n",
      "두번째 숫자: 148\n",
      "연산 기호://\n",
      "잘못된 기호\n",
      "결과 : None\n"
     ]
    }
   ],
   "source": [
    "def calc(n1,n2,op):\n",
    "    if op =='+':\n",
    "        result = n1+n2\n",
    "    elif op == '-':\n",
    "        result = n1 - n2\n",
    "    elif op == '*':\n",
    "        result = n1*n2\n",
    "    elif op == '/' :\n",
    "        result = n1/n2\n",
    "    else :\n",
    "        print('잘못된 기호')\n",
    "        result = 'None'\n",
    "    return result\n",
    "num1 = int(input('첫번째 숫자:'))\n",
    "num2 = int(input('두번째 숫자: '))\n",
    "op = input('연산 기호:')\n",
    "print('결과 : %s'%calc(num1,num2,op))"
   ]
  },
  {
   "cell_type": "markdown",
   "id": "a9f9455b",
   "metadata": {},
   "source": [
    "### eval() 함수 string 계산"
   ]
  },
  {
   "cell_type": "code",
   "execution_count": 26,
   "id": "6dc3d555",
   "metadata": {},
   "outputs": [
    {
     "name": "stdout",
     "output_type": "stream",
     "text": [
      "첫번째 숫자:100\n",
      "두번째 숫자: 2\n",
      "연산 기호://\n",
      "잘못된 기호\n",
      "결과 : None\n"
     ]
    }
   ],
   "source": [
    "def calc(n1,n2,op):\n",
    "    operator = '+-/*'\n",
    "    if op in operator:\n",
    "        result = eval(n1+op+n2)\n",
    "    else :\n",
    "        print('잘못된 기호')\n",
    "        ## return 을 안주면 None값을 준다\n",
    "num1 = input('첫번째 숫자:')\n",
    "num2 = input('두번째 숫자: ')\n",
    "op = input('연산 기호:')\n",
    "print('결과 : %s'%calc(num1,num2,op))"
   ]
  },
  {
   "cell_type": "code",
   "execution_count": 957,
   "id": "5cf4a5f4",
   "metadata": {},
   "outputs": [
    {
     "name": "stdout",
     "output_type": "stream",
     "text": [
      "['피카츄', '라이츄', '파이리', '꼬부기', '버터풀']\n",
      "Random choice item's 꼬부기\n"
     ]
    }
   ],
   "source": [
    "import random\n",
    "\n",
    "def get_random_item(items):\n",
    "    return random.choice(items)\n",
    "\n",
    "items = ['피카츄','라이츄','파이리','꼬부기','버터풀']\n",
    "print(items)\n",
    "print(f\"Random choice item's {get_random_item(items)}\")"
   ]
  },
  {
   "cell_type": "code",
   "execution_count": 1047,
   "id": "d7064ae5",
   "metadata": {},
   "outputs": [
    {
     "name": "stdout",
     "output_type": "stream",
     "text": [
      "** 로또 추첨을 시작합니다. ** \n",
      "\n",
      "로또 번호: [15, 18, 20, 24, 39, 45]\n"
     ]
    }
   ],
   "source": [
    "import random\n",
    "print('** 로또 추첨을 시작합니다. ** \\n')\n",
    "\n",
    "def lottoNumber():\n",
    "    r_num = random.sample(range(1,46),k=6)\n",
    "    r_num.sort()\n",
    "    return r_num\n",
    "print('로또 번호: %s'%lottoNumber())"
   ]
  },
  {
   "cell_type": "code",
   "execution_count": 1111,
   "id": "20c44a66",
   "metadata": {},
   "outputs": [
    {
     "name": "stdout",
     "output_type": "stream",
     "text": [
      "** 로또 추첨을 시작합니다. ** \n",
      "\n",
      "로또 번호: [10, 14, 17, 29, 32, 38]\n"
     ]
    }
   ],
   "source": [
    "import random\n",
    "print('** 로또 추첨을 시작합니다. ** \\n')\n",
    "\n",
    "def lottoNumber():\n",
    "    l_list = list(range(1,46))\n",
    "    while 1:\n",
    "        l_list.remove(random.choice(l_list))\n",
    "        if len(l_list)==6:\n",
    "            break\n",
    "    return sorted(l_list)\n",
    "print('로또 번호: %s'%lottoNumber())"
   ]
  },
  {
   "cell_type": "code",
   "execution_count": 1119,
   "id": "ce7aef37",
   "metadata": {},
   "outputs": [
    {
     "name": "stdout",
     "output_type": "stream",
     "text": [
      "[환율정보 불러오기]\n",
      "-환율기준시간: 2021.08.26 15:52\n",
      "-달러: 1,170.50\n",
      "-위안: 180.52\n",
      "-유로: 1,376.63\n"
     ]
    }
   ],
   "source": [
    "import urllib.request\n",
    "import ssl\n",
    "context = ssl._create_unverified_context()\n",
    "#환율정보 페이지 불러오기\n",
    "print(\"[환율정보 불러오기]\")\n",
    "URL = \"https://search.naver.com/search.naver?where=nexearch&sm=top_hty&fbm=1&ie=utf8&query=%ED%99%98%EC%9C%A8\"\n",
    "page = urllib.request.urlopen(URL, context=context)\n",
    "text = page.read().decode(\"utf8\")  # 해당 페이지의 소스코드\n",
    "# print(text)\n",
    "#환율정보 가져오기: 기준시간\n",
    "searchText = 'class=\"grp_info\"> <em>'\n",
    "where      = text.find(searchText)  #소스코드에서 해당 문자열의 시작위치\n",
    "targetInfo = text[where+len(searchText):where+len(searchText)+16]\n",
    "print(f'-환율기준시간: {targetInfo}')\n",
    "#환율정보 가져오기: 달러\n",
    "searchText = '<span>미국 <em>USD</em></span></a></th> <td><span>'\n",
    "where      = text.find(searchText)\n",
    "targetInfo = text[where+len(searchText):where+len(searchText)+8]\n",
    "print(f'-달러: {targetInfo}')\n",
    "#환율정보 가져오기: 위안\n",
    "searchText = '<span>중국 <em>CNY</em></span></a></th> <td><span>'\n",
    "where      = text.find(searchText)\n",
    "targetInfo = text[where+len(searchText):where+len(searchText)+6]\n",
    "print(f'-위안: {targetInfo}')\n",
    "#환율정보 가져오기:유로화\n",
    "searchText = '<span>유럽연합 <em>EUR</em></span></a></th> <td><span>'\n",
    "where      = text.find(searchText)\n",
    "targetInfo = text[where+len(searchText):where+len(searchText)+8]\n",
    "print(f'-유로: {targetInfo}')\n"
   ]
  },
  {
   "cell_type": "code",
   "execution_count": 1140,
   "id": "61ff730c",
   "metadata": {},
   "outputs": [
    {
     "name": "stdout",
     "output_type": "stream",
     "text": [
      "[환율정보 불러오기]\n",
      "-환율기준시간:2021.08.26 16:24\n",
      "-달러:1,169.50\n",
      "-위안:180.41\n",
      "-유로:1,376.15\n"
     ]
    }
   ],
   "source": [
    "def getTargetInfo(a):\n",
    "    money = {'환율기준시간':['class=\"grp_info\"> <em>',16],\n",
    "             '달러':['<span>미국 <em>USD</em></span></a></th> <td><span>',8],\n",
    "             '위안':['<span>중국 <em>CNY</em></span></a></th> <td><span>',6],\n",
    "             '유로':['<span>유럽연합 <em>EUR</em></span></a></th> <td><span>',8]}\n",
    "    import urllib.request\n",
    "    import ssl\n",
    "    context = ssl._create_unverified_context()\n",
    "    URL = \"https://search.naver.com/search.naver?where=nexearch&sm=top_hty&fbm=1&ie=utf8&query=%ED%99%98%EC%9C%A8\"\n",
    "    page = urllib.request.urlopen(URL, context=context)\n",
    "    text = page.read().decode(\"utf8\")  # 해당 페이지의 소스코드\n",
    "    searchText = money[a][0]\n",
    "    where      = text.find(searchText)  #소스코드에서 해당 문자열의 시작위치\n",
    "    targetInfo = text[where+len(searchText):where+len(searchText)+money[a][1]]\n",
    "    return targetInfo\n",
    "    \n",
    "print(\"[환율정보 불러오기]\")        \n",
    "print('-환율기준시간:%s'%getTargetInfo('환율기준시간'))\n",
    "print('-달러:%s'%getTargetInfo('달러'))\n",
    "print('-위안:%s'%getTargetInfo('위안'))\n",
    "print('-유로:%s'%getTargetInfo('유로'))"
   ]
  },
  {
   "cell_type": "markdown",
   "id": "298507c2",
   "metadata": {},
   "source": [
    "### 매개변수 "
   ]
  },
  {
   "cell_type": "code",
   "execution_count": null,
   "id": "00c41eb7",
   "metadata": {},
   "outputs": [],
   "source": [
    "def test(a,*b):\n",
    "    "
   ]
  },
  {
   "cell_type": "code",
   "execution_count": 1138,
   "id": "f5cf0edd",
   "metadata": {},
   "outputs": [
    {
     "name": "stdout",
     "output_type": "stream",
     "text": [
      "arg:{'name': '홍길동', 'age': 24, 'address': '송파구'}\n"
     ]
    }
   ],
   "source": [
    "def test(**arg):\n",
    "    print(f'arg:{arg}')\n",
    "test(name='홍길동',age=24,address='송파구')"
   ]
  },
  {
   "cell_type": "code",
   "execution_count": null,
   "id": "1c483ca4",
   "metadata": {},
   "outputs": [],
   "source": []
  }
 ],
 "metadata": {
  "kernelspec": {
   "display_name": "Python 3 (ipykernel)",
   "language": "python",
   "name": "python3"
  },
  "language_info": {
   "codemirror_mode": {
    "name": "ipython",
    "version": 3
   },
   "file_extension": ".py",
   "mimetype": "text/x-python",
   "name": "python",
   "nbconvert_exporter": "python",
   "pygments_lexer": "ipython3",
   "version": "3.8.10"
  }
 },
 "nbformat": 4,
 "nbformat_minor": 5
}
