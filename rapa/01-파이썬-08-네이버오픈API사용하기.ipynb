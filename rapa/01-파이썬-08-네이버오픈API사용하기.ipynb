{
 "cells": [
  {
   "cell_type": "markdown",
   "metadata": {},
   "source": [
    "# 8.네이버 오픈API 사용하기"
   ]
  },
  {
   "cell_type": "markdown",
   "metadata": {},
   "source": [
    "### 책 검색\n",
    " - 책검색 https://book.naver.com/\n",
    " - 네이버오픈API https://developers.naver.com/products/intro/plan/ \n",
    " - API사용신청 https://developers.naver.com/apps/#/register \n"
   ]
  },
  {
   "cell_type": "code",
   "execution_count": 1,
   "metadata": {},
   "outputs": [
    {
     "name": "stdout",
     "output_type": "stream",
     "text": [
      "검색 도서명: python\n",
      "\n",
      "제목: 파이썬 딥러닝 파이토치(<b>Python</b> Deep Learning PyTorch)\n",
      "저자: 이경택|방성수|안상준\n",
      "설명: 파이썬은 선택이 아닌 필수! 파이토치로 딥러닝 입문하기!이 책은 딥러닝 기술에 초점을 두고 딥러닝을 구현하기 위해 파이썬을 이용하는데, 머신러닝 라이브러리인 파이토치를 활용하여 다양한 텐서를 지원하는 방법을 알아본다. 파이토치는 파이썬 코딩과 비슷하기 때문에 언어가 어렵지 않다.... \n",
      "url: http://book.naver.com/bookdb/book_detail.php?bid=16778336\n",
      "\n",
      "\n",
      "\n",
      "제목: Effective <b>Python</b> 2nd 이펙티브 파이썬 : 파이썬 코딩의 기술 (똑똑하게 코딩하는 법, 개정판)\n",
      "저자: 브렛 슬라킨 지음|오현석\n",
      "설명: 아마존 파이썬 프로그래밍 분야 베스트셀러, 〈Effective <b>Python</b>〉 전면 개정 증보판! \n",
      "파이썬의 매력과 강점을 이용해 강력하고 우수한 성능의 코드를 작성하는 90가지 방법!\n",
      "파이썬다운 방식으로 프로그램을 작성하는 방법, 파이썬을 사용하는 가장 좋은 방법에 대한 통찰을 담았다! 2판에서는 파이썬 3.... \n",
      "url: http://book.naver.com/bookdb/book_detail.php?bid=16876960\n",
      "\n",
      "\n",
      "\n",
      "제목: OpenCV-<b>Python</b>으로 배우는 영상처리 및 응용\n",
      "저자: 정성환\n",
      "설명: 『OPENCV-<b>PYTHON</b>으로 배우는 영상 처리 및 응용』 은 〈영상처리란 무엇인가?〉, 〈영상처리의 수준〉, 〈영상처리의 역사〉, 〈디지털 영상의 표현과 영상처리〉, 〈OPENCV와 파이썬 개요〉, 〈파이썬(<b>PYTHON</b>) 설치 및 사용〉 등을 수록하고 있는 책이다.\n",
      "url: http://book.naver.com/bookdb/book_detail.php?bid=17526674\n",
      "\n",
      "\n"
     ]
    }
   ],
   "source": [
    "import urllib.request\n",
    "import json\n",
    "\n",
    "#------------------------------------\n",
    "# 네이버 애플리케이션 등록 정보\n",
    "#------------------------------------\n",
    "Client_ID = \"WlIpA7IkqcaBRP6XKyUk\"  # 자신의 client id \n",
    "Client_Secret = \"pIew6Mp_Fr\"    # 자신의 client secret\n",
    "\n",
    "#------------------------------------\n",
    "#  검색어 입력받아 네이버검색 url 설정\n",
    "#------------------------------------\n",
    "# 검색어 입력\n",
    "title = input(\"검색 도서명: \")\n",
    "\n",
    "# url설정\n",
    "url = \"https://openapi.naver.com/v1/search/book.json\"\n",
    "option = \"&display=3&sort=count\"    \n",
    "query = \"?query=\"+urllib.parse.quote(title)\n",
    "url_query = url + query + option\n",
    "    \n",
    "#Open API 검색 요청 개체 설정\n",
    "request = urllib.request.Request(url_query)\n",
    "request.add_header(\"X-Naver-Client-Id\", Client_ID)\n",
    "request.add_header(\"X-Naver-Client-Secret\", Client_Secret)\n",
    "\n",
    "#------------------------------------\n",
    "# 검색 요청 및 처리\n",
    "#------------------------------------\n",
    "response = urllib.request.urlopen(request)\n",
    "rescode = response.getcode()\n",
    "if(rescode == 200):\n",
    "    result = response.read().decode('utf-8')\n",
    "    #print(result) # result에 어떤 값이 들어 있는지 확인해 보기\n",
    "else:\n",
    "    print(\"검색에 실패하였습니다.\")\n",
    "    exit()\n",
    "\n",
    "#------------------------------------\n",
    "# 검색 결과 parsing 해서 보기좋게 출력하기\n",
    "#------------------------------------\n",
    "j_result = json.loads(result)   #검색 결과를 json타입으로 보여주기\n",
    "if j_result == None:\n",
    "    print(\"json.loads 실패하였습니다.\")\n",
    "    exit()\n",
    "#print(j_result) # j_result에 어떤 값이 들어 있는지 확인해 보기\n",
    " \n",
    "# j_result의 결과 중 도서 정보가 담긴 items 항목의 내용을 parsing한다.\n",
    "for item in j_result['items']:\n",
    "    print(\"\\n제목: \" + item['title'])\n",
    "    print(\"저자: \" + item['author'])\n",
    "    print(\"설명: \" + item['description'])\n",
    "    print(\"url: \" + item['link'])\n",
    "    print(\"\\n\")\n"
   ]
  },
  {
   "cell_type": "code",
   "execution_count": null,
   "metadata": {},
   "outputs": [],
   "source": []
  }
 ],
 "metadata": {
  "kernelspec": {
   "display_name": "Python 3 (ipykernel)",
   "language": "python",
   "name": "python3"
  },
  "language_info": {
   "codemirror_mode": {
    "name": "ipython",
    "version": 3
   },
   "file_extension": ".py",
   "mimetype": "text/x-python",
   "name": "python",
   "nbconvert_exporter": "python",
   "pygments_lexer": "ipython3",
   "version": "3.8.10"
  }
 },
 "nbformat": 4,
 "nbformat_minor": 4
}
