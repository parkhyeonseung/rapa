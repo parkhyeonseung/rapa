{
 "cells": [
  {
   "cell_type": "code",
   "execution_count": 15,
   "id": "93f335d3",
   "metadata": {},
   "outputs": [
    {
     "name": "stdout",
     "output_type": "stream",
     "text": [
      "# 2단    # 3단    # 4단    # 5단    # 6단    # 7단    # 8단    # 9단    \n",
      "2x1= 2   3x1= 3   4x1= 4   5x1= 5   6x1= 6   7x1= 7   8x1= 8   9x1= 9   \n",
      "2x2= 4   3x2= 6   4x2= 8   5x2= 10  6x2= 12  7x2= 14  8x2= 16  9x2= 18  \n",
      "2x3= 6   3x3= 9   4x3= 12  5x3= 15  6x3= 18  7x3= 21  8x3= 24  9x3= 27  \n",
      "2x4= 8   3x4= 12  4x4= 16  5x4= 20  6x4= 24  7x4= 28  8x4= 32  9x4= 36  \n",
      "2x5= 10  3x5= 15  4x5= 20  5x5= 25  6x5= 30  7x5= 35  8x5= 40  9x5= 45  \n",
      "2x6= 12  3x6= 18  4x6= 24  5x6= 30  6x6= 36  7x6= 42  8x6= 48  9x6= 54  \n",
      "2x7= 14  3x7= 21  4x7= 28  5x7= 35  6x7= 42  7x7= 49  8x7= 56  9x7= 63  \n",
      "2x8= 16  3x8= 24  4x8= 32  5x8= 40  6x8= 48  7x8= 56  8x8= 64  9x8= 72  \n",
      "2x9= 18  3x9= 27  4x9= 36  5x9= 45  6x9= 54  7x9= 63  8x9= 72  9x9= 81  \n"
     ]
    }
   ],
   "source": [
    "## f string 줄 간격 ljust() ##\n",
    "\n",
    "for i in range(2,10):\n",
    "  print(f'# {i}단'.ljust(6),end='  ')\n",
    "print()\n",
    "for i in range(1,10):\n",
    "  for j in range(2,10):\n",
    "    print(f'{j}x{i}= {j*i}'.ljust(9),end='')\n",
    "  print()\n"
   ]
  },
  {
   "cell_type": "code",
   "execution_count": 36,
   "id": "da7b7779",
   "metadata": {},
   "outputs": [
    {
     "name": "stdout",
     "output_type": "stream",
     "text": [
      "# 2단  # 3단  # 4단  # 5단  # 6단  # 7단  # 8단  # 9단  \n",
      "2x1=2  3x1=3  4x1=4  5x1=5  6x1=6  7x1=7  8x1=8  9x1=9  \n",
      "2x2=4  3x2=6  4x2=8  5x2=10 6x2=12 7x2=14 8x2=16 9x2=18 \n",
      "2x3=6  3x3=9  4x3=12 5x3=15 6x3=18 7x3=21 8x3=24 9x3=27 \n",
      "2x4=8  3x4=12 4x4=16 5x4=20 6x4=24 7x4=28 8x4=32 9x4=36 \n",
      "2x5=10 3x5=15 4x5=20 5x5=25 6x5=30 7x5=35 8x5=40 9x5=45 \n",
      "2x6=12 3x6=18 4x6=24 5x6=30 6x6=36 7x6=42 8x6=48 9x6=54 \n",
      "2x7=14 3x7=21 4x7=28 5x7=35 6x7=42 7x7=49 8x7=56 9x7=63 \n",
      "2x8=16 3x8=24 4x8=32 5x8=40 6x8=48 7x8=56 8x8=64 9x8=72 \n",
      "2x9=18 3x9=27 4x9=36 5x9=45 6x9=54 7x9=63 8x9=72 9x9=81 \n"
     ]
    }
   ],
   "source": [
    "## f string 줄 간격 {var :int}(우측 정렬) or {var : <int} (좌측 정렬) ##\n",
    "\n",
    "for i in range(2,10):\n",
    "  print(f'# {i:1}단',end='  ')\n",
    "print()\n",
    "for i in range(1,10):\n",
    "  for j in range(2,10):\n",
    "    print(f'{j}x{i}={j*i:<2}',end=' ')        \n",
    "  print()\n"
   ]
  },
  {
   "cell_type": "code",
   "execution_count": 52,
   "id": "a6528642",
   "metadata": {
    "scrolled": true
   },
   "outputs": [
    {
     "name": "stdout",
     "output_type": "stream",
     "text": [
      "1  2  3  4  \n",
      "5  6  7  8  \n",
      "9  10 11 12 \n",
      "\n",
      "1  4  7  10 \n",
      "2  5  8  11 \n",
      "3  6  9  12 \n"
     ]
    }
   ],
   "source": [
    "for i in range(3):\n",
    "    for j in range(1,5):\n",
    "        print(f'{i*4+j:<3}',end='')\n",
    "    print()\n",
    "print()\n",
    "for i in range(3):\n",
    "    for j in range(1,11,3):\n",
    "        print(f'{i+j:<3}',end='')\n",
    "    print()"
   ]
  },
  {
   "cell_type": "code",
   "execution_count": 57,
   "id": "697b305b",
   "metadata": {},
   "outputs": [
    {
     "name": "stdout",
     "output_type": "stream",
     "text": [
      "1  2  3  4  \n",
      "5  6  7  8  \n",
      "9  10 11 12 \n"
     ]
    }
   ],
   "source": [
    "for i in range(1,13):\n",
    "    print(f'{i:<2}',end = ' ')\n",
    "    if i%4==0:\n",
    "        print()"
   ]
  },
  {
   "cell_type": "code",
   "execution_count": 155,
   "id": "c1206e60",
   "metadata": {},
   "outputs": [
    {
     "name": "stdout",
     "output_type": "stream",
     "text": [
      "[11, 15, 20, 20, 14, 20]\n",
      "동률이 나왔습니다 20번씩 3숫자와 4숫자와 6숫자가 가장 많이 나왔습니다.\n"
     ]
    }
   ],
   "source": [
    "import random\n",
    "a=[]\n",
    "for i in range(100):\n",
    "    d = random.randrange(1,7)\n",
    "    a.append(d)\n",
    "\n",
    "b =[0,0,0,0,0,0]\n",
    "for j in a:\n",
    "    for i in range(1,7):\n",
    "        if j==i:\n",
    "            b[i-1]+=1\n",
    "print(b)\n",
    "d_max = max(b)\n",
    "count=[]\n",
    "num=[]\n",
    "for idx,i in enumerate(b):\n",
    "    if i-d_max>=0:\n",
    "        count.append(i)\n",
    "        num.append(idx+1)\n",
    "        \n",
    "if len(num)==1:\n",
    "    print(f'{num[0]}숫자가 {count[0]}번으로 가장 많이 나왔습니다.')\n",
    "if len(num)>1:    \n",
    "    print(f'동률이 나왔습니다 {count[0]}번씩',end=' ')\n",
    "    for i in range(1,6):\n",
    "        if len(num)==i:\n",
    "            for j in range(i):\n",
    "                if j<i-1:\n",
    "                    print(f'{num[j]}숫자와',end=' ')\n",
    "                else:\n",
    "                    print(f'{num[j]}숫자가',end=' ')\n",
    "    print('가장 많이 나왔습니다.')\n",
    "        "
   ]
  },
  {
   "cell_type": "code",
   "execution_count": 156,
   "id": "c82b0c34",
   "metadata": {},
   "outputs": [
    {
     "name": "stdout",
     "output_type": "stream",
     "text": [
      "5050\n"
     ]
    }
   ],
   "source": [
    "hap , i= 0,1\n",
    "while i <101:\n",
    "    hap = hap+i\n",
    "    i=i+1\n",
    "print(hap)"
   ]
  },
  {
   "cell_type": "code",
   "execution_count": 159,
   "id": "c9163a88",
   "metadata": {},
   "outputs": [
    {
     "name": "stdout",
     "output_type": "stream",
     "text": [
      "나무를 1번 찍었습니다.\n",
      "나무를 2번 찍었습니다.\n",
      "나무를 3번 찍었습니다.\n",
      "나무를 4번 찍었습니다.\n",
      "나무를 5번 찍었습니다.\n",
      "나무를 6번 찍었습니다.\n",
      "나무를 7번 찍었습니다.\n",
      "나무를 8번 찍었습니다.\n",
      "나무를 9번 찍었습니다.\n",
      "나무를 10번 찍었습니다.\n",
      "나무 넘어 갑니다~\n"
     ]
    }
   ],
   "source": [
    "treeHit = 0 \n",
    "while 1:\n",
    "    treeHit+=1\n",
    "    print(f'나무를 {treeHit}번 찍었습니다.')\n",
    "    if treeHit ==10:\n",
    "        print('나무 넘어 갑니다~')\n",
    "        break\n",
    "    "
   ]
  },
  {
   "cell_type": "code",
   "execution_count": 166,
   "id": "2c189cb2",
   "metadata": {},
   "outputs": [
    {
     "name": "stdout",
     "output_type": "stream",
     "text": [
      "숫자를 여러개 입력하세요 :5915\n",
      "★★★★★★★★★★\n",
      "★★★★★★★★★★★★★★★★★★\n",
      "★★\n",
      "★★★★★★★★★★\n"
     ]
    }
   ],
   "source": [
    "num = input('숫자를 여러개 입력하세요 :')\n",
    "num_len = len(num)\n",
    "i=0\n",
    "while i!=num_len:\n",
    "    print('\\u2605'*2*int(num[i]))\n",
    "    i+=1"
   ]
  },
  {
   "cell_type": "code",
   "execution_count": 182,
   "id": "055ab20c",
   "metadata": {},
   "outputs": [
    {
     "name": "stdout",
     "output_type": "stream",
     "text": [
      "공의 노피를 입력하세요(meter) :0.00001\n",
      "1e-05m 위치에서 공의 튕긴 횟수는 총 1번 입니다.\n"
     ]
    }
   ],
   "source": [
    "length = float(input('공의 노피를 입력하세요(meter) :'))\n",
    "meter, cnt = length, 0\n",
    "while meter>=0.00001:\n",
    "    cnt+=1\n",
    "    meter/=2\n",
    "print(f'{length}m 위치에서 공의 튕긴 횟수는 총 {cnt}번 입니다.')"
   ]
  },
  {
   "cell_type": "code",
   "execution_count": 181,
   "id": "8fc0d828",
   "metadata": {},
   "outputs": [
    {
     "name": "stdout",
     "output_type": "stream",
     "text": [
      "---------------------------------- \n",
      "* 비밀의 숫자가 지정되었습니다.\n",
      " ----------------------------------\n",
      "숫자를 입력하세요 :50\n",
      "비밀의 수는 더 큰 수 입니다.\n",
      "숫자를 입력하세요 :60\n",
      "비밀의 수는 더 큰 수 입니다.\n",
      "숫자를 입력하세요 :80\n",
      "비밀의 수는 더 큰 수 입니다.\n",
      "숫자를 입력하세요 :90\n",
      "비밀의 수는 더 큰 수 입니다.\n",
      "숫자를 입력하세요 :95\n",
      "비밀의 수는 더 큰 수 입니다.\n",
      "숫자를 입력하세요 :99\n",
      "비밀의 수는 더 작은 수 입니다.\n",
      "숫자를 입력하세요 :98\n",
      "정답입니다.\n",
      " ----------------------------------\n",
      "비밀의 숫자: 98\n",
      "당신의 입력 횟수: 7\n"
     ]
    }
   ],
   "source": [
    "import random\n",
    "num = random.randrange(1,101)\n",
    "bar = '----------------------------------'\n",
    "print(bar,'\\n* 비밀의 숫자가 지정되었습니다.\\n',bar)\n",
    "put_num = 0\n",
    "count = 0\n",
    "while put_num!=num:\n",
    "    put_num = int(input('숫자를 입력하세요 :'))\n",
    "    count+=1\n",
    "    if put_num<num:\n",
    "        print('비밀의 수는 더 큰 수 입니다.')\n",
    "    elif put_num>num:\n",
    "        print('비밀의 수는 더 작은 수 입니다.')\n",
    "print('정답입니다.\\n',bar)\n",
    "print(f'비밀의 숫자: {num}\\n당신의 입력 횟수: {count}')"
   ]
  },
  {
   "cell_type": "code",
   "execution_count": 186,
   "id": "76b5d25e",
   "metadata": {},
   "outputs": [
    {
     "name": "stdout",
     "output_type": "stream",
     "text": [
      "idx[5] val[2]\n",
      "idx[6] val[3]\n",
      "idx[7] val[4]\n",
      "idx[8] val[5]\n",
      "idx[9] val[6]\n"
     ]
    }
   ],
   "source": []
  },
  {
   "cell_type": "code",
   "execution_count": null,
   "id": "315c4737",
   "metadata": {},
   "outputs": [],
   "source": []
  },
  {
   "cell_type": "code",
   "execution_count": null,
   "id": "381cc777",
   "metadata": {},
   "outputs": [],
   "source": []
  }
 ],
 "metadata": {
  "kernelspec": {
   "display_name": "Python 3 (ipykernel)",
   "language": "python",
   "name": "python3"
  },
  "language_info": {
   "codemirror_mode": {
    "name": "ipython",
    "version": 3
   },
   "file_extension": ".py",
   "mimetype": "text/x-python",
   "name": "python",
   "nbconvert_exporter": "python",
   "pygments_lexer": "ipython3",
   "version": "3.8.0"
  }
 },
 "nbformat": 4,
 "nbformat_minor": 5
}
