{
 "cells": [
  {
   "cell_type": "code",
   "execution_count": 2,
   "id": "526e54e8",
   "metadata": {},
   "outputs": [
    {
     "name": "stdout",
     "output_type": "stream",
     "text": [
      "[1, 8, 18, 32, 50]\n"
     ]
    }
   ],
   "source": [
    "mylist1 = [1,2,3,4,5]\n",
    "mylist2 = [1,4,6,8,10]\n",
    "mylist = list(map(lambda x,y :x*y,mylist1,mylist2))\n",
    "                                   ############### -> tuple 형태로!\n",
    "print(mylist)"
   ]
  },
  {
   "cell_type": "markdown",
   "id": "69f7612f",
   "metadata": {},
   "source": [
    "# Filter()"
   ]
  },
  {
   "cell_type": "code",
   "execution_count": 5,
   "id": "b33d18b2",
   "metadata": {},
   "outputs": [
    {
     "data": {
      "text/plain": [
       "[6, 7]"
      ]
     },
     "execution_count": 5,
     "metadata": {},
     "output_type": "execute_result"
    }
   ],
   "source": [
    "def f(x):\n",
    "    return x>5 and x<10   ### -> bool type \n",
    "mylist = [1,6,7,35,436,3]\n",
    "list(filter(f,mylist))     ### -> true 일때 해당 요소를 가져옴"
   ]
  },
  {
   "cell_type": "code",
   "execution_count": 9,
   "id": "4665d19f",
   "metadata": {},
   "outputs": [
    {
     "name": "stdout",
     "output_type": "stream",
     "text": [
      "[6, 7]\n",
      "[False, True, True, False, False, False]\n"
     ]
    }
   ],
   "source": [
    "print(list(filter(lambda x:x>5 and x<10,mylist)))\n",
    "print(list(map(lambda x:x>5 and x<10 ,mylist)))"
   ]
  },
  {
   "cell_type": "code",
   "execution_count": 8,
   "id": "7a393062",
   "metadata": {},
   "outputs": [
    {
     "data": {
      "text/plain": [
       "[1, 6, 7, 35, 436, 3]"
      ]
     },
     "execution_count": 8,
     "metadata": {},
     "output_type": "execute_result"
    }
   ],
   "source": [
    "list(filter(lambda x: x*2,mylist))  ## -> x*2 값들이 전부 int 즉 True기 때문에 \n",
    "                                     ##     그 위치에 있는 원소를 그대로 출력"
   ]
  },
  {
   "cell_type": "markdown",
   "id": "569e999b",
   "metadata": {},
   "source": [
    "# recursive call 재귀 함수"
   ]
  },
  {
   "cell_type": "code",
   "execution_count": 10,
   "id": "cd643a81",
   "metadata": {},
   "outputs": [
    {
     "name": "stdout",
     "output_type": "stream",
     "text": [
      "120\n"
     ]
    }
   ],
   "source": [
    "## factorial\n",
    "def factorial(n):\n",
    "    if n==1:\n",
    "        return 1\n",
    "    return n*factorial(n-1)\n",
    "print(factorial(5))"
   ]
  },
  {
   "cell_type": "code",
   "execution_count": 13,
   "id": "e440c98c",
   "metadata": {},
   "outputs": [
    {
     "name": "stdout",
     "output_type": "stream",
     "text": [
      "10 9 8 7 6 5 4 3 2 1 "
     ]
    }
   ],
   "source": [
    "def count(x):\n",
    "    if x>=1:\n",
    "        print(x,end=' ')\n",
    "        count(x-1)\n",
    "    else :\n",
    "        return\n",
    "count(10)"
   ]
  },
  {
   "cell_type": "code",
   "execution_count": 51,
   "id": "f097dedd",
   "metadata": {},
   "outputs": [
    {
     "name": "stdout",
     "output_type": "stream",
     "text": [
      "[('스', 4), ('에', 3), ('코', 3), ('다', 3), ('있', 3), ('모', 3), ('것', 2), ('이', 2), ('는', 2), ('현', 1), ('적', 1), ('었', 1), ('그', 1), ('래', 1), ('과', 1), ('부', 1), ('시', 1), ('니', 1), ('미', 1), ('며', 1), ('을', 1), ('우', 1), ('가', 1), ('일', 1), ('고', 1), ('거', 1), ('수', 1), ('든', 1), ('리', 1), ('으', 1), ('재', 1), ('의', 1), ('결', 1), ('은', 1), ('사', 1), ('아', 1)]\n"
     ]
    }
   ],
   "source": [
    "instr = '''\n",
    "코스모스는 과거에 있었고, 현재에 있으며, 미래에 있을 그 모든 것이다.\n",
    "우리는 코스모스의 일부다.\n",
    "이것은 결코 시적 수사가 아니다.\n",
    "'''\n",
    "\n",
    "def lettercount():\n",
    "    global instr\n",
    "    countdic = {}\n",
    "    countlist = []\n",
    "    instrlist = list(instr)\n",
    "    instrset = set(instr)\n",
    "    for i in instrset:\n",
    "        countdic[i] = instrlist.count(i)\n",
    "    [countdic.pop(key) for key in [',','\\n',' ','.']]\n",
    "    countlist = sorted(countdic.items() , key = lambda x:x[1],reverse = True) ######\n",
    "    return countlist\n",
    "print(lettercount())"
   ]
  },
  {
   "cell_type": "code",
   "execution_count": 42,
   "id": "fae484b9",
   "metadata": {
    "scrolled": true
   },
   "outputs": [
    {
     "name": "stdout",
     "output_type": "stream",
     "text": [
      "Help on built-in function sorted in module builtins:\n",
      "\n",
      "sorted(iterable, /, *, key=None, reverse=False)\n",
      "    Return a new list containing all items from the iterable in ascending order.\n",
      "    \n",
      "    A custom key function can be supplied to customize the sort order, and the\n",
      "    reverse flag can be set to request the result in descending order.\n",
      "\n"
     ]
    }
   ],
   "source": [
    "def  letterCount():\n",
    "    global inStr\n",
    "    countDic = {}\n",
    "    countList=[]\n",
    "    # 글자:빈도수 딕셔너리 만들기\n",
    "    for char in inStr:\n",
    "        if char >= '가' and char <='힣':\n",
    "            if char in countDic:\n",
    "                countDic[char] += 1\n",
    "            else:\n",
    "                countDic[char] = 1\n",
    "    # 정렬하기\n",
    "    # 방법 1\n",
    "    countList = sorted(countDic.items(), key=lambda x: x[1], reverse=True)\n",
    "    # 방법 2\n",
    "    import operator\n",
    "    countList = sorted(countDic.items(), key=operator.itemgetter(1), reverse=True)\n",
    "    return countList\n",
    "print(letterCount())"
   ]
  },
  {
   "cell_type": "code",
   "execution_count": null,
   "id": "dfbc55b3",
   "metadata": {},
   "outputs": [],
   "source": [
    "# 방법2\n",
    "from collections import Counter\n",
    "counter = Counter(inStr)  # 딕셔너리타입\n",
    "print(counter)\n",
    "# 가장 많이 나타난 2개를 출력한다\n",
    "print(counter.most_common(n=2))"
   ]
  },
  {
   "cell_type": "markdown",
   "id": "04287653",
   "metadata": {},
   "source": [
    "# package"
   ]
  },
  {
   "cell_type": "code",
   "execution_count": 72,
   "id": "c14a8579",
   "metadata": {},
   "outputs": [],
   "source": [
    "from sklearn.datasets import load_iris"
   ]
  },
  {
   "cell_type": "code",
   "execution_count": null,
   "id": "72078d18",
   "metadata": {},
   "outputs": [],
   "source": []
  }
 ],
 "metadata": {
  "kernelspec": {
   "display_name": "Python 3 (ipykernel)",
   "language": "python",
   "name": "python3"
  },
  "language_info": {
   "codemirror_mode": {
    "name": "ipython",
    "version": 3
   },
   "file_extension": ".py",
   "mimetype": "text/x-python",
   "name": "python",
   "nbconvert_exporter": "python",
   "pygments_lexer": "ipython3",
   "version": "3.8.10"
  }
 },
 "nbformat": 4,
 "nbformat_minor": 5
}
