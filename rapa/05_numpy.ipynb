{
 "cells": [
  {
   "cell_type": "code",
   "execution_count": 1,
   "id": "cb94fa32",
   "metadata": {},
   "outputs": [],
   "source": [
    "import numpy as np"
   ]
  },
  {
   "cell_type": "code",
   "execution_count": 8,
   "id": "2a95d079",
   "metadata": {},
   "outputs": [
    {
     "name": "stdout",
     "output_type": "stream",
     "text": [
      "[0 1 2 3 4 5 6 7 8 9]\n",
      "<class 'numpy.ndarray'>\n"
     ]
    }
   ],
   "source": [
    "arr = np.array([0,1,2,3,4,5,6,7,8,9])\n",
    "print(arr)\n",
    "print(type(arr))"
   ]
  },
  {
   "cell_type": "code",
   "execution_count": 5,
   "id": "50aa6ca1",
   "metadata": {},
   "outputs": [],
   "source": [
    "a = np.array([[10,20,30,40],[50,60,70,80]])"
   ]
  },
  {
   "cell_type": "code",
   "execution_count": 9,
   "id": "bc409307",
   "metadata": {},
   "outputs": [
    {
     "name": "stdout",
     "output_type": "stream",
     "text": [
      "[[10 20 30 40]\n",
      " [50 60 70 80]]\n",
      "[[ 20  40  60  80]\n",
      " [100 120 140 160]]\n"
     ]
    }
   ],
   "source": [
    "print(a)\n",
    "print(a*2)"
   ]
  },
  {
   "cell_type": "code",
   "execution_count": 10,
   "id": "1e38ea75",
   "metadata": {},
   "outputs": [
    {
     "data": {
      "text/plain": [
       "2"
      ]
     },
     "execution_count": 10,
     "metadata": {},
     "output_type": "execute_result"
    }
   ],
   "source": [
    "len(a)"
   ]
  },
  {
   "cell_type": "code",
   "execution_count": 12,
   "id": "b3d3acfe",
   "metadata": {},
   "outputs": [
    {
     "data": {
      "text/plain": [
       "4"
      ]
     },
     "execution_count": 12,
     "metadata": {},
     "output_type": "execute_result"
    }
   ],
   "source": [
    "len(a[1]);len(a[0])"
   ]
  },
  {
   "cell_type": "code",
   "execution_count": 14,
   "id": "c0e4c90b",
   "metadata": {},
   "outputs": [],
   "source": [
    "a = np.array([[10,20,30,40],[50,60,70,80]])"
   ]
  },
  {
   "cell_type": "code",
   "execution_count": 15,
   "id": "b8390eff",
   "metadata": {},
   "outputs": [],
   "source": [
    "d = np.array([[[1,2,3,4],[5,6,7,8],[9,10,11,12]],[[11,12,13,14],[15,16,17,18],[19,20,21,22]]])"
   ]
  },
  {
   "cell_type": "code",
   "execution_count": 16,
   "id": "a81a9cd0",
   "metadata": {},
   "outputs": [
    {
     "name": "stdout",
     "output_type": "stream",
     "text": [
      "[[[ 1  2  3  4]\n",
      "  [ 5  6  7  8]\n",
      "  [ 9 10 11 12]]\n",
      "\n",
      " [[11 12 13 14]\n",
      "  [15 16 17 18]\n",
      "  [19 20 21 22]]]\n"
     ]
    }
   ],
   "source": [
    "print(d)"
   ]
  },
  {
   "cell_type": "markdown",
   "id": "1d9df34d",
   "metadata": {},
   "source": [
    "# reshape"
   ]
  },
  {
   "cell_type": "code",
   "execution_count": 55,
   "id": "d0fbc1ce",
   "metadata": {},
   "outputs": [
    {
     "name": "stdout",
     "output_type": "stream",
     "text": [
      "[ 0  1  2  3  4  5  6  7  8  9 10 11]\n"
     ]
    }
   ],
   "source": [
    "na = np.arange(12)\n",
    "print(na)"
   ]
  },
  {
   "cell_type": "code",
   "execution_count": 20,
   "id": "1a9d48d1",
   "metadata": {},
   "outputs": [
    {
     "name": "stdout",
     "output_type": "stream",
     "text": [
      "[[ 0  1  2  3]\n",
      " [ 4  5  6  7]\n",
      " [ 8  9 10 11]]\n"
     ]
    }
   ],
   "source": [
    "nb = na.reshape(3,4)\n",
    "print(nb)"
   ]
  },
  {
   "cell_type": "code",
   "execution_count": 38,
   "id": "0b498c83",
   "metadata": {},
   "outputs": [
    {
     "name": "stdout",
     "output_type": "stream",
     "text": [
      "[[ 0  1  2  3]\n",
      " [ 4  5  6  7]\n",
      " [ 8  9 10 11]]\n"
     ]
    }
   ],
   "source": [
    "nb = na.reshape(3,-1)          #  -1 = 알아서 처리해라\n",
    "print(nb)"
   ]
  },
  {
   "cell_type": "code",
   "execution_count": 40,
   "id": "630b851b",
   "metadata": {},
   "outputs": [
    {
     "name": "stdout",
     "output_type": "stream",
     "text": [
      "[[[ 0  1]\n",
      "  [ 2  3]\n",
      "  [ 4  5]]\n",
      "\n",
      " [[ 6  7]\n",
      "  [ 8  9]\n",
      "  [10 11]]]\n"
     ]
    }
   ],
   "source": [
    "nb = na.reshape(2,-1,2)\n",
    "print(nb)"
   ]
  },
  {
   "cell_type": "code",
   "execution_count": 56,
   "id": "e374b154",
   "metadata": {},
   "outputs": [
    {
     "name": "stdout",
     "output_type": "stream",
     "text": [
      "[[[ 0  1]\n",
      "  [ 2  3]]\n",
      "\n",
      " [[ 4  5]\n",
      "  [ 6  7]]\n",
      "\n",
      " [[ 8  9]\n",
      "  [10 11]]]\n"
     ]
    }
   ],
   "source": [
    "nb = na.reshape(-1,2,2)\n",
    "print(nb)"
   ]
  },
  {
   "cell_type": "markdown",
   "id": "5cee7f1f",
   "metadata": {},
   "source": [
    "# flatten , ravel"
   ]
  },
  {
   "cell_type": "code",
   "execution_count": 42,
   "id": "13bf9abe",
   "metadata": {},
   "outputs": [
    {
     "name": "stdout",
     "output_type": "stream",
     "text": [
      "[ 0  1  2  3  4  5  6  7  8  9 10 11]\n"
     ]
    }
   ],
   "source": [
    "nc = nb.flatten()\n",
    "print(nc)"
   ]
  },
  {
   "cell_type": "code",
   "execution_count": 44,
   "id": "6f275165",
   "metadata": {},
   "outputs": [
    {
     "name": "stdout",
     "output_type": "stream",
     "text": [
      "[ 0  1  2  3  4  5  6  7  8  9 10 11]\n"
     ]
    }
   ],
   "source": [
    "nc = nb.ravel()\n",
    "print(nc)"
   ]
  },
  {
   "cell_type": "markdown",
   "id": "ec69c365",
   "metadata": {},
   "source": [
    "# dtype"
   ]
  },
  {
   "cell_type": "code",
   "execution_count": 65,
   "id": "ac887bd2",
   "metadata": {},
   "outputs": [
    {
     "name": "stdout",
     "output_type": "stream",
     "text": [
      "[1 2 3]\n"
     ]
    }
   ],
   "source": [
    "a = np.array([1,2,3],dtype='int8')\n",
    "print(a)"
   ]
  },
  {
   "cell_type": "code",
   "execution_count": 68,
   "id": "e007df43",
   "metadata": {},
   "outputs": [
    {
     "name": "stdout",
     "output_type": "stream",
     "text": [
      "[False  True False  True False]\n"
     ]
    }
   ],
   "source": [
    "a = np.array([1,2,3,4,5])\n",
    "idx = np.array([True,False,True,False,True,False,True,False,True,False])\n",
    "print(idx[a])"
   ]
  },
  {
   "cell_type": "code",
   "execution_count": null,
   "id": "345fbf8f",
   "metadata": {},
   "outputs": [],
   "source": []
  }
 ],
 "metadata": {
  "kernelspec": {
   "display_name": "Python 3 (ipykernel)",
   "language": "python",
   "name": "python3"
  },
  "language_info": {
   "codemirror_mode": {
    "name": "ipython",
    "version": 3
   },
   "file_extension": ".py",
   "mimetype": "text/x-python",
   "name": "python",
   "nbconvert_exporter": "python",
   "pygments_lexer": "ipython3",
   "version": "3.8.10"
  }
 },
 "nbformat": 4,
 "nbformat_minor": 5
}
