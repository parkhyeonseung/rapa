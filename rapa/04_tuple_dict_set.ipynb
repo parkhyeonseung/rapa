{
 "cells": [
  {
   "cell_type": "markdown",
   "id": "a359509a",
   "metadata": {},
   "source": [
    "### Tuple"
   ]
  },
  {
   "cell_type": "code",
   "execution_count": null,
   "id": "fc3ad313",
   "metadata": {},
   "outputs": [],
   "source": [
    "a=1,2,3,4\n",
    "print(type(a))\n",
    "b = 'a',\n",
    "print(type(b))"
   ]
  },
  {
   "cell_type": "code",
   "execution_count": null,
   "id": "9e0fcae1",
   "metadata": {},
   "outputs": [],
   "source": [
    "c = (1,2,('a','b'),['love','bts'])\n",
    "c[2][0]"
   ]
  },
  {
   "cell_type": "code",
   "execution_count": null,
   "id": "db6335dd",
   "metadata": {},
   "outputs": [],
   "source": [
    "menu = ('짜장면','우동','짬뽕','볶음밥')\n",
    "print(menu) ; print(menu[0]); print(menu[2]); print(menu[0:3])"
   ]
  },
  {
   "cell_type": "code",
   "execution_count": null,
   "id": "0ae10da6",
   "metadata": {},
   "outputs": [],
   "source": [
    "tup1 = 10,20,30\n",
    "tup2 = 40,50,60\n",
    "tup3 = tup1+tup2\n",
    "print(tup3)"
   ]
  },
  {
   "cell_type": "code",
   "execution_count": null,
   "id": "ce4716b7",
   "metadata": {},
   "outputs": [],
   "source": [
    "L = ['a',b'','c']\n",
    "T = 'a','b','c'\n",
    "import sys \n",
    "print(sys.getsizeof(L))\n",
    "print(sys.getsizeof(T))"
   ]
  },
  {
   "cell_type": "code",
   "execution_count": null,
   "id": "9afd1341",
   "metadata": {},
   "outputs": [],
   "source": [
    "list_t = list(tup1)\n",
    "list_t"
   ]
  },
  {
   "cell_type": "code",
   "execution_count": null,
   "id": "a0b2397b",
   "metadata": {},
   "outputs": [],
   "source": [
    "tuple_l = tuple(list_t)\n",
    "tuple_l"
   ]
  },
  {
   "cell_type": "code",
   "execution_count": null,
   "id": "d9193b65",
   "metadata": {},
   "outputs": [],
   "source": [
    "%timeit L =['a','b','b']"
   ]
  },
  {
   "cell_type": "code",
   "execution_count": null,
   "id": "11a60345",
   "metadata": {},
   "outputs": [],
   "source": [
    "%timeit T = 'a','b','c'"
   ]
  },
  {
   "cell_type": "markdown",
   "id": "ae0aaa7e",
   "metadata": {},
   "source": [
    "### Dictionary"
   ]
  },
  {
   "cell_type": "code",
   "execution_count": null,
   "id": "950f8429",
   "metadata": {},
   "outputs": [],
   "source": [
    "a = {'name':'pey','phone':'01199993323'}\n",
    "print(a)\n",
    "a = dict(name = 'pey',phone = '01099993323')\n",
    "print(a)"
   ]
  },
  {
   "cell_type": "code",
   "execution_count": null,
   "id": "9d5cc89f",
   "metadata": {},
   "outputs": [],
   "source": [
    "a = {'name':['qkr','gus'],'phone':1023930245}\n",
    "print(a)"
   ]
  },
  {
   "cell_type": "code",
   "execution_count": 1,
   "id": "702b6323",
   "metadata": {},
   "outputs": [
    {
     "ename": "SyntaxError",
     "evalue": "invalid syntax (Temp/ipykernel_8180/3687166329.py, line 13)",
     "output_type": "error",
     "traceback": [
      "\u001b[1;36m  File \u001b[1;32m\"C:\\Users\\PC021\\AppData\\Local\\Temp/ipykernel_8180/3687166329.py\"\u001b[1;36m, line \u001b[1;32m13\u001b[0m\n\u001b[1;33m    print(f'국어 : {scores['kor']}')\u001b[0m\n\u001b[1;37m                          ^\u001b[0m\n\u001b[1;31mSyntaxError\u001b[0m\u001b[1;31m:\u001b[0m invalid syntax\n"
     ]
    }
   ],
   "source": [
    "name = '박지민'\n",
    "scores = {'kor':90,'eng':89,'math':95,'science':88}\n",
    "print(scores)\n",
    "scores['music'] = 100\n",
    "print(scores)\n",
    "scores['kor'] = 70\n",
    "print(scores['kor'])\n",
    "\n",
    "del scores['science']\n",
    "print(scores)\n",
    "\n",
    "print(f'이름 : {name}')\n",
    "print(f'국어 : {scores['kor']}')\n",
    "print(f'영어 : {scores['eng']}')\n",
    "print(f'수학 : {scores['math']}')"
   ]
  },
  {
   "cell_type": "code",
   "execution_count": 10,
   "id": "849483b7",
   "metadata": {},
   "outputs": [
    {
     "name": "stdout",
     "output_type": "stream",
     "text": [
      "{'kor': 90, 'eng': 89, 'math': 95, 'science': 88, 'kkk': 40, 'wrf': 124, 'aqhge': 242}\n",
      "{'kkk': 40, 'wrf': 124, 'aqhge': 242}\n"
     ]
    }
   ],
   "source": [
    "### dictionary 합치기\n",
    "scores = {'kor':90,'eng':89,'math':95,'science':88}\n",
    "id = {'kkk':40,'wrf':124,'aqhge':242}\n",
    "scores.update(id)\n",
    "print(scores)\n",
    "print(id)"
   ]
  },
  {
   "cell_type": "code",
   "execution_count": 11,
   "id": "c15e8ace",
   "metadata": {},
   "outputs": [
    {
     "name": "stdout",
     "output_type": "stream",
     "text": [
      "bts의 성적은: 100\n",
      "twice의 성적은: 89\n",
      "blackpink의 성적은: 95\n",
      "neweast의 성적은: 75\n",
      "합계 : 359, 평균 : 89.75\n"
     ]
    }
   ],
   "source": [
    "names = ['bts','twice','blackpink','neweast']\n",
    "idols = {}\n",
    "for name in names:\n",
    "    idols[name] = int(input(f'{name}의 성적은: '))\n",
    "hap = 0\n",
    "for key in idols:\n",
    "    hap = hap+idols[key]\n",
    "avg = hap/len(idols)\n",
    "print('합계 : %d, 평균 : %.2f' % (hap,avg))"
   ]
  },
  {
   "cell_type": "code",
   "execution_count": 43,
   "id": "232d78af",
   "metadata": {},
   "outputs": [
    {
     "name": "stdout",
     "output_type": "stream",
     "text": [
      "\n",
      "------선택메뉴-------\n",
      "1. 단어 등록\n",
      "2. 단어 검색\n",
      "3. 모든 단어 보기\n",
      "4. 퀴즈 풀기\n",
      "0. 종료 하기\n",
      "--------------------\n",
      "\n",
      "선택 :4\n",
      "단어장에 단어가없습니다.\n",
      "\n",
      "------선택메뉴-------\n",
      "1. 단어 등록\n",
      "2. 단어 검색\n",
      "3. 모든 단어 보기\n",
      "4. 퀴즈 풀기\n",
      "0. 종료 하기\n",
      "--------------------\n",
      "\n",
      "선택 :4\n",
      "단어장에 단어가없습니다.\n",
      "\n",
      "------선택메뉴-------\n",
      "1. 단어 등록\n",
      "2. 단어 검색\n",
      "3. 모든 단어 보기\n",
      "4. 퀴즈 풀기\n",
      "0. 종료 하기\n",
      "--------------------\n",
      "\n",
      "선택 :0\n"
     ]
    }
   ],
   "source": [
    "import random\n",
    "menu = '''\n",
    "------선택메뉴-------\n",
    "1. 단어 등록\n",
    "2. 단어 검색\n",
    "3. 모든 단어 보기\n",
    "4. 퀴즈 풀기\n",
    "0. 종료 하기\n",
    "--------------------\n",
    "'''\n",
    "num = 1\n",
    "word_dict = {}\n",
    "while num :\n",
    "    print(menu)\n",
    "    num = int(input('선택 :'))\n",
    "    if num ==1:\n",
    "        word_new = input('새 단어 : ')\n",
    "        new_mean = input(f'{word_new}의 뜻 : ')\n",
    "        word_dict[word_new] = new_mean\n",
    "    elif num == 2:\n",
    "        worded = input('검색할 단어 :')\n",
    "        if str(list(word_dict.keys())).find(worded) >=0:\n",
    "            print('%s : %s' % (worded,word_dict[worded]))\n",
    "        else:\n",
    "            print('미등록 단어')\n",
    "    elif num == 3:\n",
    "        key_list = list(word_dict.keys())\n",
    "        for i in range(len(key_list)):\n",
    "            print('%s : %s' % (key_list[i],word_dict[key_list[i]]))\n",
    "    elif num ==4:\n",
    "        key_list = list(word_dict.keys())\n",
    "        length = len(key_list)\n",
    "        if length == 0 :\n",
    "            print('단어장에 단어가없습니다.')\n",
    "        else:\n",
    "            random_num = random.randrange(0,length)\n",
    "            quiz = input('%s 의 뜻은?' % key_list[random_num])\n",
    "            if quiz == word_dict[key_list[random_num]]:\n",
    "                print('정답')\n",
    "            else:\n",
    "                print('오답')"
   ]
  },
  {
   "cell_type": "markdown",
   "id": "0e8b5090",
   "metadata": {},
   "source": [
    "### dictionary에서 random choice 하는 법!!!!!!!!!!!\n",
    "k, v = random.choice(tuple(word_dict.items()))\n",
    " k, v = random.choice(list(word_dict.items()))"
   ]
  },
  {
   "cell_type": "markdown",
   "id": "b2b4d97c",
   "metadata": {},
   "source": [
    "## set"
   ]
  },
  {
   "cell_type": "code",
   "execution_count": 53,
   "id": "9ef9798c",
   "metadata": {},
   "outputs": [],
   "source": [
    "a = set('hello')"
   ]
  },
  {
   "cell_type": "code",
   "execution_count": 54,
   "id": "fb35d38a",
   "metadata": {},
   "outputs": [
    {
     "name": "stdout",
     "output_type": "stream",
     "text": [
      "{'e', 'l', 'o', 'h'}\n"
     ]
    }
   ],
   "source": [
    "print(a)"
   ]
  },
  {
   "cell_type": "code",
   "execution_count": 80,
   "id": "4c71f73e",
   "metadata": {},
   "outputs": [],
   "source": [
    "s = {1,2,3,'a','b'}"
   ]
  },
  {
   "cell_type": "code",
   "execution_count": 81,
   "id": "4ee66712",
   "metadata": {},
   "outputs": [
    {
     "name": "stdout",
     "output_type": "stream",
     "text": [
      "{1, 2, 3, 'c', 'b', 'a'}\n"
     ]
    }
   ],
   "source": [
    "## 요소 1개 추가\n",
    "s.add('c')\n",
    "print(s)"
   ]
  },
  {
   "cell_type": "code",
   "execution_count": 82,
   "id": "1fc7306b",
   "metadata": {},
   "outputs": [
    {
     "name": "stdout",
     "output_type": "stream",
     "text": [
      "{'d', 1, 2, 3, 4, 'c', 'b', 'e', 'a'}\n"
     ]
    }
   ],
   "source": [
    "# 요소 여래개 추가\n",
    "s.update(['d','e',4])\n",
    "print(s)"
   ]
  },
  {
   "cell_type": "code",
   "execution_count": 83,
   "id": "5a9d3823",
   "metadata": {},
   "outputs": [
    {
     "name": "stdout",
     "output_type": "stream",
     "text": [
      "{'d', 1, 2, 3, 4, 'b', 'e', 'a'}\n"
     ]
    }
   ],
   "source": [
    "# 요소 1개 삭제\n",
    "s.discard('c')\n",
    "print(s)"
   ]
  },
  {
   "cell_type": "code",
   "execution_count": 71,
   "id": "709252cf",
   "metadata": {},
   "outputs": [
    {
     "name": "stdout",
     "output_type": "stream",
     "text": [
      "{1, 2, 3, 4, 'b', 'e', 'a'}\n"
     ]
    }
   ],
   "source": [
    "# 요소 1개 삭제 (원소 없으면 오류)\n",
    "s.remove('d')\n",
    "print(s)"
   ]
  },
  {
   "cell_type": "code",
   "execution_count": 84,
   "id": "2a1be454",
   "metadata": {},
   "outputs": [
    {
     "data": {
      "text/plain": [
       "'d'"
      ]
     },
     "execution_count": 84,
     "metadata": {},
     "output_type": "execute_result"
    }
   ],
   "source": [
    "# 아무 원소나 꺼내 없앰 (집합이 비어있으면 오류)\n",
    "s.pop()\n"
   ]
  },
  {
   "cell_type": "code",
   "execution_count": 85,
   "id": "10685517",
   "metadata": {},
   "outputs": [
    {
     "name": "stdout",
     "output_type": "stream",
     "text": [
      "set()\n"
     ]
    }
   ],
   "source": [
    "# 모든 원소를 제거\n",
    "s.clear()\n",
    "print(s)"
   ]
  },
  {
   "cell_type": "code",
   "execution_count": 86,
   "id": "2bd52e15",
   "metadata": {},
   "outputs": [
    {
     "name": "stdout",
     "output_type": "stream",
     "text": [
      "{2, 4}\n"
     ]
    }
   ],
   "source": [
    "# 교 집합 : & , intersection()\n",
    "s1 = {2,4,6,8,10}\n",
    "s2 = {1,2,3,4,5}\n",
    "s = s1&s2 # =   s = s1.intersection(s2)\n",
    "print(s)"
   ]
  },
  {
   "cell_type": "code",
   "execution_count": 87,
   "id": "15360dd8",
   "metadata": {},
   "outputs": [
    {
     "name": "stdout",
     "output_type": "stream",
     "text": [
      "{1, 2, 3, 4, 5, 6, 8, 10}\n"
     ]
    }
   ],
   "source": [
    "# 합 집합 : | , union()\n",
    "s = s1|s2  # =    s = s1.union(s2)\n",
    "print(s)"
   ]
  },
  {
   "cell_type": "code",
   "execution_count": 88,
   "id": "f8703a21",
   "metadata": {},
   "outputs": [
    {
     "name": "stdout",
     "output_type": "stream",
     "text": [
      "{8, 10, 6}\n"
     ]
    }
   ],
   "source": [
    "# 차집합 : - , difference()\n",
    "s = s1 - s2 # =    s= s1.difference(s2)\n",
    "print(s)"
   ]
  },
  {
   "cell_type": "markdown",
   "id": "9f005a59",
   "metadata": {},
   "source": [
    "## Comprehesion"
   ]
  },
  {
   "cell_type": "code",
   "execution_count": 89,
   "id": "e25e04cf",
   "metadata": {},
   "outputs": [],
   "source": [
    "ke = ['qwr','qwqw','wewe']\n",
    "numdict = {i:j for i in ke for j in range(3)}"
   ]
  },
  {
   "cell_type": "code",
   "execution_count": 90,
   "id": "1623faf6",
   "metadata": {},
   "outputs": [
    {
     "name": "stdout",
     "output_type": "stream",
     "text": [
      "{'qwr': 2, 'qwqw': 2, 'wewe': 2}\n"
     ]
    }
   ],
   "source": [
    "print(numdict)"
   ]
  },
  {
   "cell_type": "code",
   "execution_count": 99,
   "id": "d717c960",
   "metadata": {},
   "outputs": [],
   "source": [
    "foods = ['떡볶이','짜장면','라면','파자','맥주']\n",
    "sides = ['오뎅','단무지','김치']\n",
    "zips = zip(foods,sides)\n",
    "maps = map(foods,sides)"
   ]
  },
  {
   "cell_type": "code",
   "execution_count": 100,
   "id": "60734a80",
   "metadata": {},
   "outputs": [
    {
     "data": {
      "text/plain": [
       "{'떡볶이': '오뎅', '짜장면': '단무지', '라면': '김치'}"
      ]
     },
     "execution_count": 100,
     "metadata": {},
     "output_type": "execute_result"
    }
   ],
   "source": [
    "dict(zips)"
   ]
  },
  {
   "cell_type": "code",
   "execution_count": null,
   "id": "566f4651",
   "metadata": {},
   "outputs": [],
   "source": []
  }
 ],
 "metadata": {
  "kernelspec": {
   "display_name": "Python 3 (ipykernel)",
   "language": "python",
   "name": "python3"
  },
  "language_info": {
   "codemirror_mode": {
    "name": "ipython",
    "version": 3
   },
   "file_extension": ".py",
   "mimetype": "text/x-python",
   "name": "python",
   "nbconvert_exporter": "python",
   "pygments_lexer": "ipython3",
   "version": "3.8.10"
  }
 },
 "nbformat": 4,
 "nbformat_minor": 5
}
