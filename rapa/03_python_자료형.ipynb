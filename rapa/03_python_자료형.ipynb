{
 "cells": [
  {
   "cell_type": "markdown",
   "id": "4f5811c4",
   "metadata": {},
   "source": [
    "### List"
   ]
  },
  {
   "cell_type": "code",
   "execution_count": 2,
   "id": "76ea2bef",
   "metadata": {},
   "outputs": [
    {
     "name": "stdout",
     "output_type": "stream",
     "text": [
      "idx[5] val[2]\n",
      "idx[6] val[3]\n",
      "idx[7] val[4]\n",
      "idx[8] val[5]\n",
      "idx[9] val[6]\n"
     ]
    }
   ],
   "source": [
    "### enumerate\n",
    "mylist = [2,3,4,5,6]\n",
    "for idx,val in enumerate(mylist,5):          ######## index 초기값 지정!!!\n",
    "    print(f'idx[{idx}] val[{val}]')"
   ]
  },
  {
   "cell_type": "code",
   "execution_count": 4,
   "id": "832a5980",
   "metadata": {},
   "outputs": [
    {
     "name": "stdout",
     "output_type": "stream",
     "text": [
      "[1, 2, 3, 4, 5, 6, 7, 8, 9, 10]\n"
     ]
    }
   ],
   "source": [
    "mylist = list()\n",
    "for i in range(1,11):\n",
    "    mylist.append(i)\n",
    "print(mylist)"
   ]
  },
  {
   "cell_type": "code",
   "execution_count": 14,
   "id": "eb1fd417",
   "metadata": {},
   "outputs": [
    {
     "name": "stdout",
     "output_type": "stream",
     "text": [
      "['red', 'green', 'blue', 'black', 'white']\n"
     ]
    }
   ],
   "source": [
    "### list slicing\n",
    "colors = ['red','green','blue','black','white']\n",
    "print(colors[0:7])"
   ]
  },
  {
   "cell_type": "code",
   "execution_count": 19,
   "id": "6964f3e3",
   "metadata": {},
   "outputs": [
    {
     "name": "stdout",
     "output_type": "stream",
     "text": [
      "['green']\n",
      "green\n"
     ]
    }
   ],
   "source": [
    "print(colors[1:2])\n",
    "print(colors[1])"
   ]
  },
  {
   "cell_type": "code",
   "execution_count": 20,
   "id": "149f1a11",
   "metadata": {},
   "outputs": [
    {
     "name": "stdout",
     "output_type": "stream",
     "text": [
      "나는 red 색상을 좋아합니다.\n",
      "나는 green 색상을 좋아합니다.\n",
      "나는 blue 색상을 좋아합니다.\n",
      "나는 black 색상을 좋아합니다.\n",
      "나는 white 색상을 좋아합니다.\n"
     ]
    }
   ],
   "source": [
    "for color in colors:\n",
    "    print(f'나는 {color} 색상을 좋아합니다.')"
   ]
  },
  {
   "cell_type": "code",
   "execution_count": 22,
   "id": "5a0690a9",
   "metadata": {},
   "outputs": [
    {
     "data": {
      "text/plain": [
       "['red', 'green', 'blue', 'black', 'white', 'apple', 'grape', 'orange']"
      ]
     },
     "execution_count": 22,
     "metadata": {},
     "output_type": "execute_result"
    }
   ],
   "source": [
    "#### list + list = [list list]\n",
    "\n",
    "colors = ['red','green','blue','black','white']\n",
    "fruits = ['apple','grape','orange']\n",
    "colors+fruits"
   ]
  },
  {
   "cell_type": "code",
   "execution_count": 25,
   "id": "7f44ff30",
   "metadata": {},
   "outputs": [
    {
     "data": {
      "text/plain": [
       "['red', 'green', 'blue', 'white']"
      ]
     },
     "execution_count": 25,
     "metadata": {},
     "output_type": "execute_result"
    }
   ],
   "source": [
    "#### list element remove\n",
    "\n",
    "colors = ['red','green','blue','black','white']\n",
    "colors.remove('black')\n",
    "colors"
   ]
  },
  {
   "cell_type": "code",
   "execution_count": 26,
   "id": "a6d1fdfa",
   "metadata": {},
   "outputs": [
    {
     "data": {
      "text/plain": [
       "['red', 'violet', 'green', 'blue', 'black', 'white']"
      ]
     },
     "execution_count": 26,
     "metadata": {},
     "output_type": "execute_result"
    }
   ],
   "source": [
    "#### list insert\n",
    "colors = ['red','green','blue','black','white']\n",
    "colors.insert(1,'violet')\n",
    "colors"
   ]
  },
  {
   "cell_type": "code",
   "execution_count": 29,
   "id": "d6e1fbdf",
   "metadata": {},
   "outputs": [
    {
     "name": "stdout",
     "output_type": "stream",
     "text": [
      "['red', 'green', 'blue', 'black', 'white', 'apple', 'grape', 'orange']\n",
      "['apple', 'grape', 'orange']\n"
     ]
    }
   ],
   "source": [
    "#### list extend = list + list\n",
    "colors = ['red','green','blue','black','white']\n",
    "fruits = ['apple','grape','orange']\n",
    "colors.extend(fruits)\n",
    "print(colors)\n",
    "print(fruits)"
   ]
  },
  {
   "cell_type": "code",
   "execution_count": 30,
   "id": "d42d0889",
   "metadata": {},
   "outputs": [
    {
     "data": {
      "text/plain": [
       "2"
      ]
     },
     "execution_count": 30,
     "metadata": {},
     "output_type": "execute_result"
    }
   ],
   "source": [
    "### list count 해당하는 값의 개수\n",
    "alist = [1,2,4,5,5,2,4,6,7]\n",
    "alist.count(5)"
   ]
  },
  {
   "cell_type": "code",
   "execution_count": 33,
   "id": "9ab28bba",
   "metadata": {},
   "outputs": [
    {
     "data": {
      "text/plain": [
       "1"
      ]
     },
     "execution_count": 33,
     "metadata": {},
     "output_type": "execute_result"
    }
   ],
   "source": [
    "### list index : 해당값 위치 찾기\n",
    "fruits = ['apple','grape','orange']\n",
    "fruits.index('grape')"
   ]
  },
  {
   "cell_type": "code",
   "execution_count": 36,
   "id": "6199addf",
   "metadata": {},
   "outputs": [
    {
     "name": "stdout",
     "output_type": "stream",
     "text": [
      "['apple', 'grape', 'orange']\n",
      "['apple', 'grape', 'orange']\n"
     ]
    }
   ],
   "source": [
    "### list sort & sorted\n",
    "fruits.sort()\n",
    "print(fruits)\n",
    "new_fruits = sorted(fruits)\n",
    "print(new_fruits)"
   ]
  },
  {
   "cell_type": "code",
   "execution_count": 38,
   "id": "6b6f91a6",
   "metadata": {},
   "outputs": [
    {
     "name": "stdout",
     "output_type": "stream",
     "text": [
      "[10, 20, 30]\n",
      "[40, 50, 60, 70]\n",
      "20\n"
     ]
    }
   ],
   "source": [
    "### 2 demension list\n",
    "numbers = [[10,20,30],[40,50,60,70]]\n",
    "print(numbers[0])\n",
    "print(numbers[1])\n",
    "print(numbers[0][1])"
   ]
  },
  {
   "cell_type": "code",
   "execution_count": 42,
   "id": "95b2b274",
   "metadata": {},
   "outputs": [
    {
     "name": "stdout",
     "output_type": "stream",
     "text": [
      "[1, 2, 3]\n"
     ]
    }
   ],
   "source": [
    "### 3 demension list\n",
    "\n",
    "D3_numbers = [[[1,2,3],4,5],[6,[7,8,9],10]]\n",
    "print(D3_numbers[0][0])"
   ]
  },
  {
   "cell_type": "code",
   "execution_count": 53,
   "id": "2d81d1fe",
   "metadata": {},
   "outputs": [
    {
     "name": "stdout",
     "output_type": "stream",
     "text": [
      " 1  2  3  4 \n",
      " 5  6  7  8 \n",
      " 9 10 11 12 \n"
     ]
    }
   ],
   "source": [
    "mylist = [[],[],[]]\n",
    "for i in range(3):\n",
    "    mylist[i]=list(range(4*i+1,5+4*i))\n",
    "for i in range(3):\n",
    "    for j in range(4):\n",
    "        print(f'{mylist[i][j]:2}', end=' ')\n",
    "    print()"
   ]
  },
  {
   "cell_type": "code",
   "execution_count": 57,
   "id": "1f4f06a8",
   "metadata": {},
   "outputs": [],
   "source": [
    "mylist = list()\n",
    "for i in range(1,201):\n",
    "    if i % 3==0:            ### == mylist = [i for i in range(1,201) if i%3==0]\n",
    "        mylist.append(i)"
   ]
  },
  {
   "cell_type": "code",
   "execution_count": 58,
   "id": "8ae47433",
   "metadata": {},
   "outputs": [],
   "source": [
    "mylist = [i for i in range(1,201) if i%3==0]"
   ]
  },
  {
   "cell_type": "code",
   "execution_count": 78,
   "id": "2a049899",
   "metadata": {},
   "outputs": [
    {
     "name": "stdout",
     "output_type": "stream",
     "text": [
      "비티에스의 성적 입력:1\n",
      "트와이스의 성적 입력:1\n",
      "블랙핑크의 성적 입력:1\n",
      "뉴이스트의 성적 입력:1\n",
      "------------------\n",
      " 아이돌 성적 결과 \n",
      "------------------\n",
      "비티에스의 성적은 1점: 미수료\n",
      "트와이스의 성적은 1점: 미수료\n",
      "블랙핑크의 성적은 1점: 미수료\n",
      "뉴이스트의 성적은 1점: 미수료\n"
     ]
    }
   ],
   "source": [
    "idol_score = [['비티에스'],['트와이스'],['블랙핑크'],['뉴이스트']]\n",
    "for i in range(4):\n",
    "    idol_score[i].append(int(input(idol_score[i][0]+'의 성적 입력:')))\n",
    "bar = '------------------'\n",
    "print( bar+'\\n','아이돌 성적 결과','\\n'+bar)\n",
    "for i in range(4):\n",
    "    if idol_score[i][1]>=80: idol_score[i].append('수료')\n",
    "    else :                   idol_score[i].append('미수료')\n",
    "for i in range(4):        \n",
    "    print(f'{idol_score[i][0]}의 성적은 {idol_score[i][1]}점: {idol_score[i][2]}')"
   ]
  },
  {
   "cell_type": "code",
   "execution_count": 98,
   "id": "cf967704",
   "metadata": {},
   "outputs": [
    {
     "name": "stdout",
     "output_type": "stream",
     "text": [
      "BTS의 성적입력:100\n",
      "투와이스의 성적입력:80\n",
      "블랙핑크의 성적입력:60\n",
      "뉴이스트의 성적입력:200\n"
     ]
    }
   ],
   "source": [
    "## 간단하게 !!\n",
    "idols = ['BTS','투와이스','블랙핑크','뉴이스트']\n",
    "scores = [int(input(f'{idol}의 성적입력:')) for idol in idols]"
   ]
  },
  {
   "cell_type": "code",
   "execution_count": 122,
   "id": "7bf002d0",
   "metadata": {},
   "outputs": [
    {
     "data": {
      "text/plain": [
       "[100, 80, 60, 200]"
      ]
     },
     "execution_count": 122,
     "metadata": {},
     "output_type": "execute_result"
    }
   ],
   "source": [
    "scores"
   ]
  },
  {
   "cell_type": "code",
   "execution_count": 123,
   "id": "9b84a8f6",
   "metadata": {},
   "outputs": [
    {
     "name": "stdout",
     "output_type": "stream",
     "text": [
      "결과\n"
     ]
    },
    {
     "data": {
      "text/plain": [
       "['perfect', 'Pass', 'Fail', 'perfect']"
      ]
     },
     "execution_count": 123,
     "metadata": {},
     "output_type": "execute_result"
    }
   ],
   "source": [
    "###########!!!!!!!!!!!!!!!!!!중용!!!!!!!!!!!!!!!########################\n",
    "print('결과')\n",
    "result = ['Pass' if 100>score >=80 else 'Fail' if score<100 else 'perfect' for score in scores]\n",
    "result"
   ]
  },
  {
   "cell_type": "code",
   "execution_count": 112,
   "id": "9ad4bddb",
   "metadata": {},
   "outputs": [
    {
     "name": "stdout",
     "output_type": "stream",
     "text": [
      "YYYYMMDD :20210102\n",
      "--------------------\n",
      "2021/1/1 ~ 2021/1/2 : 1\n"
     ]
    }
   ],
   "source": [
    "#####\n",
    "today = input('YYYYMMDD :')\n",
    "today_y = int(today[0:4]); today_m = int(today[4:6]) ; today_d = int(today[6:8])\n",
    "dates = [31,28,31,30,31,30,31,31,30,31,30,31]\n",
    "if today_y % 400 ==0 or (today_y %100 != 0 and today_y % 4 ==0):\n",
    "    dates[1]=29\n",
    "days = sum(dates[0:today_m-1])+today_d-1\n",
    "print('-'*20)\n",
    "print(f'{today_y}/1/1 ~ {today_y}/{today_m}/{today_d} : {days}')"
   ]
  },
  {
   "cell_type": "code",
   "execution_count": 119,
   "id": "4de58a4b",
   "metadata": {},
   "outputs": [
    {
     "name": "stdout",
     "output_type": "stream",
     "text": [
      "201 days, 0:00:00\n",
      "201\n"
     ]
    }
   ],
   "source": [
    "## 날짜 간격 구하기\n",
    "import datetime\n",
    "s\n",
    "sday = datetime.datetime.strptime('20210101','%Y%m%d')\n",
    "eday = datetime.datetime.strptime('20210721','%Y%m%d')\n",
    "print(eday-sday)\n",
    "print((eday-sday).days)"
   ]
  },
  {
   "cell_type": "code",
   "execution_count": null,
   "id": "064c6c2e",
   "metadata": {},
   "outputs": [],
   "source": []
  }
 ],
 "metadata": {
  "kernelspec": {
   "display_name": "Python 3 (ipykernel)",
   "language": "python",
   "name": "python3"
  },
  "language_info": {
   "codemirror_mode": {
    "name": "ipython",
    "version": 3
   },
   "file_extension": ".py",
   "mimetype": "text/x-python",
   "name": "python",
   "nbconvert_exporter": "python",
   "pygments_lexer": "ipython3",
   "version": "3.8.10"
  }
 },
 "nbformat": 4,
 "nbformat_minor": 5
}
